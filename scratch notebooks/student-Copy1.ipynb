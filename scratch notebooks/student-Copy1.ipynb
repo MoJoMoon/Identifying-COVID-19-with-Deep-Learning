{
 "cells": [
  {
   "cell_type": "markdown",
   "metadata": {},
   "source": [
    "# Final Project Submission\n",
    " - Student name: Morgan Jones\n",
    " - Student pace: Full Time\n",
    " - Scheduled project review date/time:\n",
    " - Instructor name: Abhineet Kulkarni\n",
    " - Blog post URL: "
   ]
  },
  {
   "cell_type": "markdown",
   "metadata": {},
   "source": [
    "# Introduction \n",
    "***\n"
   ]
  },
  {
   "cell_type": "markdown",
   "metadata": {},
   "source": [
    "## Business Case"
   ]
  },
  {
   "cell_type": "markdown",
   "metadata": {},
   "source": [
    "##### **Disclaimer**\n",
    "\n",
    "This work is meant to fulfill educational purposes. The hypothetical business case, and results of modeling are not meant to be considered as medical advise, and has not been approved by any professional or medical body.\n",
    "***"
   ]
  },
  {
   "cell_type": "markdown",
   "metadata": {},
   "source": [
    "As of May 4, 2020 COVID-19 has had devastating impacts on the world. To date, there are over 3.5 million confirmed cases in roughly a 5 month window of time. While there are several factors that have led to these disheartening statistics, one key element in this proliferation is travel. Due to the often asymptomatic nature of COVID-19 infections, infected individuals have been able to unknowingly spread the virus to over 200 countries and territories. \n",
    "In order to 'flatten the curve' my group would like to **propose a systematic approach to implementing non-invasive testing at key international airports that would identify and quarantine would be infected travelers**. Our proposal is simple, through effective risk mapping and assessment driven by data, high risk travelers' lungs are scanned with computed tomography (CT), and the resulting **x-ray images are assessed with a Convolutional Neural Network trained on detecting COVID-19**. Those travelers identified by the neural network as infected would then be further tested by medical professionals before being approved for travel. **This project focuses on the creation and optimization of this COVID-19 detecting CNN**."
   ]
  },
  {
   "cell_type": "markdown",
   "metadata": {},
   "source": [
    "## Objectives"
   ]
  },
  {
   "cell_type": "markdown",
   "metadata": {},
   "source": [
    "There are two main objectives for this portion of the aforementioned proposal, which are as follows:\n",
    " 1. Generate a Convolutional Neural Network (CNN) which detects the presence of COVID-19 in CT images with a **high** accuracy.\n",
    " 2. Reveal indicators of COVID-19 through analysis of said CNN."
   ]
  },
  {
   "cell_type": "markdown",
   "metadata": {},
   "source": [
    "## Evaluation Metrics"
   ]
  },
  {
   "cell_type": "markdown",
   "metadata": {},
   "source": [
    "Our task is essentially a binary classification problem, where an x-ray image is considered input, and **our model produces an prediction of whether this image is of a COVID-19 infected lung, or is not**. With these objectives and framework in mind, the threshold of success mainly rests on the accuracy of our model. We will set the goal of our model attaining **at least an 80% accuracy**. With accuracy here being defined as:\n",
    "\n",
    "$$Accuracy = \\frac{TP+TN}{TP+TN+FP+FN}$$\n",
    "\n",
    "Then our model will be successful where:\n",
    "\n",
    "$$Accuracy >= .80$$\n",
    "\n",
    "\n",
    "In the case where our model predicts incorrectly, we **prefer a false positive more than a false negative**. In the case of a false positive, a traveler is determined as infected where they are not. In this case that person would be held for further testing, potentially missing their flight. However **in the case of a false negative, our model has determined that an image of lungs that are COVID-19 infected are not, and thus that traveler would continue on potentially infecting others**. Therefore we aim for a model where:\n",
    "\n",
    "\n",
    "$$ \\text{Precision} = \\frac{\\text{Number of True Positives}}{\\text{Number of Predicted Positives}} $$\n",
    "\n",
    "  \n",
    "\n",
    "$$ \\text{Recall} = \\frac{\\text{Number of True Positives}}{\\text{Number of Actual Total Positives}} $$\n",
    "\n",
    "Our model will achieve:\n",
    "\n",
    "$$ \\text{Precision}  <  \\text{Recall} $$\n"
   ]
  },
  {
   "cell_type": "markdown",
   "metadata": {},
   "source": [
    "## Methodology"
   ]
  },
  {
   "cell_type": "markdown",
   "metadata": {},
   "source": [
    "The process for conducting our research and modeling will follow the iterative **OSEMiN** pipeline. This entails Obtaining, Scrubbing, Exploring, Modeling, and Interpreting the data. This project will use this pipeline in the following manner: \n",
    "\n",
    "**OSEMiN Pipeline**:\n",
    "\n",
    "    Obtain\n",
    "    - Import the data.\n",
    "\n",
    "    Scrub\n",
    "    - Manage datatypes, resolve missing/duplicate values.\n",
    "    \n",
    "    Explore\n",
    "    - Find patterns among the relationships of variables in the dataset.\n",
    "    \n",
    "    Model\n",
    "    - Create predictive models.\n",
    "    \n",
    "    iNterpret\n",
    "    – Identify insights and visualize findings."
   ]
  },
  {
   "cell_type": "code",
   "execution_count": null,
   "metadata": {},
   "outputs": [],
   "source": []
  },
  {
   "cell_type": "markdown",
   "metadata": {},
   "source": [
    "Python using keras with a tensorflow backend"
   ]
  },
  {
   "cell_type": "code",
   "execution_count": null,
   "metadata": {},
   "outputs": [],
   "source": []
  },
  {
   "cell_type": "markdown",
   "metadata": {},
   "source": [
    "Definition for transfer learning: In their famous book, Deep Learning, Goodfellow et al refer to transfer learning in the context of generalization. Their definition is as follows:\n",
    "Situation where what has been learned in one setting is exploited to improve generalization in another setting."
   ]
  },
  {
   "cell_type": "code",
   "execution_count": null,
   "metadata": {},
   "outputs": [],
   "source": []
  },
  {
   "cell_type": "markdown",
   "metadata": {},
   "source": [
    "Inductive Transfer learning: In this scenario, the source and target domains are the same, yet the source and target tasks are different from each other. The algorithms try to utilize the inductive biases of the source domain to help improve the target task. Depending upon whether the source domain contains labeled data or not, this can be further divided into two subcategories, similar to multitask learning and self-taught learning, respectively."
   ]
  },
  {
   "cell_type": "code",
   "execution_count": null,
   "metadata": {},
   "outputs": [],
   "source": []
  },
  {
   "cell_type": "markdown",
   "metadata": {},
   "source": [
    "Feature-representation transfer: This approach aims to minimize domain divergence and reduce error rates by identifying good feature representations that can be utilized from the source to target domains. Depending upon the availability of labeled data, supervised or unsupervised methods may be applied for feature-representation-based transfers."
   ]
  },
  {
   "cell_type": "code",
   "execution_count": null,
   "metadata": {},
   "outputs": [],
   "source": []
  },
  {
   "cell_type": "markdown",
   "metadata": {},
   "source": [
    "# Obtain\n",
    "***"
   ]
  },
  {
   "cell_type": "markdown",
   "metadata": {},
   "source": [
    "At this stage, there is a limited amount of data pertaining to CT scans of COVID-19 cases available openly with respect to the amount effective when conducting deep learning. For this reason we will first build a model on pneumonia data, using x-ray images of lungs affected by pneumonia, and negatives of lungs not affected by pneumonia. After creating this model, we will conduct transfer learning to further train this CNN to assess for COVID-19 with our smaller dataset. In order to begin, we will need to obtain this data, and the libraries needed for this project."
   ]
  },
  {
   "cell_type": "markdown",
   "metadata": {},
   "source": [
    "## Import Libraries"
   ]
  },
  {
   "cell_type": "markdown",
   "metadata": {},
   "source": [
    "We will start with the most popular libraries for importing and manipulating data. These first libraries are as follows:"
   ]
  },
  {
   "cell_type": "code",
   "execution_count": 1,
   "metadata": {
    "ExecuteTime": {
     "end_time": "2020-05-07T16:24:44.416555Z",
     "start_time": "2020-05-07T16:24:42.386382Z"
    }
   },
   "outputs": [],
   "source": [
    "import pandas as pd  # Alias pandas to be referred to as pd\n",
    "import numpy as np  # Alias numpy to be referred to as np\n",
    "import matplotlib.pyplot as plt  # Alias matplotlib.pyplot to be referred to as plt\n",
    "import matplotlib.ticker as ticker # Alias matplotlib.ticker to be referred to as ticker\n",
    "import seaborn as sns  # Alias seaborn to be referred to as sns\n",
    "import os, shutil # Necessary for creating new folders to store image data\n",
    "import cv2\n",
    "\n",
    "# Magic funtion to allow plot outputs to appear and be stored within out notebook\n",
    "%matplotlib inline\n",
    "# View all of the columns of a returned object\n",
    "pd.set_option('display.max_columns', None)"
   ]
  },
  {
   "cell_type": "code",
   "execution_count": 39,
   "metadata": {
    "ExecuteTime": {
     "end_time": "2020-05-07T16:38:38.002188Z",
     "start_time": "2020-05-07T16:38:37.996218Z"
    }
   },
   "outputs": [],
   "source": [
    "import matplotlib.pyplot as plt\n",
    "import seaborn as sns\n",
    "import keras\n",
    "from keras import optimizers\n",
    "from keras.models import Sequential\n",
    "from keras.layers import Dense, Conv2D , MaxPool2D , Flatten , Dropout, ZeroPadding2D, MaxPooling2D\n",
    "from keras.layers.core import Flatten\n",
    "from keras.preprocessing.image import ImageDataGenerator\n",
    "from keras.utils.vis_utils import plot_model\n",
    "from tensorflow.keras.models import Model\n",
    "from sklearn.model_selection import train_test_split\n",
    "from sklearn.metrics import classification_report,confusion_matrix\n",
    "import cv2\n",
    "import os"
   ]
  },
  {
   "cell_type": "code",
   "execution_count": 3,
   "metadata": {
    "ExecuteTime": {
     "end_time": "2020-05-07T16:24:48.271087Z",
     "start_time": "2020-05-07T16:24:48.267099Z"
    }
   },
   "outputs": [],
   "source": [
    "import datetime"
   ]
  },
  {
   "cell_type": "code",
   "execution_count": 4,
   "metadata": {
    "ExecuteTime": {
     "end_time": "2020-05-07T16:24:48.286048Z",
     "start_time": "2020-05-07T16:24:48.273082Z"
    }
   },
   "outputs": [],
   "source": [
    "import tensorflow as tf\n",
    "from tensorflow.python.framework import ops\n",
    "ops.reset_default_graph()"
   ]
  },
  {
   "cell_type": "code",
   "execution_count": 5,
   "metadata": {
    "ExecuteTime": {
     "end_time": "2020-05-07T16:24:48.300013Z",
     "start_time": "2020-05-07T16:24:48.289040Z"
    }
   },
   "outputs": [],
   "source": [
    "from keras.utils import to_categorical #For One-hot Encoding\n",
    "from keras.optimizers import Adam, SGD, RMSprop #For Optimizing the Neural Network\n",
    "from keras.callbacks import EarlyStopping\n",
    "from glob import glob #retriving an array of files in directories"
   ]
  },
  {
   "cell_type": "code",
   "execution_count": 6,
   "metadata": {
    "ExecuteTime": {
     "end_time": "2020-05-07T16:24:48.366831Z",
     "start_time": "2020-05-07T16:24:48.303002Z"
    }
   },
   "outputs": [],
   "source": [
    "# Clear any logs from previous runs\n",
    "!rm -rf ./logs/ "
   ]
  },
  {
   "cell_type": "code",
   "execution_count": 7,
   "metadata": {
    "ExecuteTime": {
     "end_time": "2020-05-07T16:24:48.385782Z",
     "start_time": "2020-05-07T16:24:48.369824Z"
    }
   },
   "outputs": [
    {
     "name": "stdout",
     "output_type": "stream",
     "text": [
      "TensorFlow version:  2.0.0\n"
     ]
    }
   ],
   "source": [
    "from __future__ import absolute_import\n",
    "from __future__ import division\n",
    "from __future__ import print_function\n",
    "\n",
    "from datetime import datetime\n",
    "from packaging import version\n",
    "\n",
    "import tensorflow as tf\n",
    "from tensorflow import keras\n",
    "\n",
    "print(\"TensorFlow version: \", tf.__version__)\n",
    "assert version.parse(tf.__version__).release[0] >= 2, \\\n",
    "    \"This notebook requires TensorFlow 2.0 or above.\""
   ]
  },
  {
   "cell_type": "code",
   "execution_count": 8,
   "metadata": {
    "ExecuteTime": {
     "end_time": "2020-05-07T16:24:48.400741Z",
     "start_time": "2020-05-07T16:24:48.389770Z"
    }
   },
   "outputs": [],
   "source": [
    "from tensorflow.keras.callbacks import TensorBoard\n",
    "# Load the TensorBoard notebook extension.\n",
    "%load_ext tensorboard"
   ]
  },
  {
   "cell_type": "markdown",
   "metadata": {},
   "source": [
    "## Import Pneumonia Data"
   ]
  },
  {
   "cell_type": "markdown",
   "metadata": {},
   "source": [
    "We will source our pneumonia dataset from \"Identifying Medical Diagnoses and Treatable Diseases by Image-Based Deep Learning\". This data can be found at the url: https://data.mendeley.com/datasets/rscbjbr9sj/3 with License: CC BY 4.0 and Citation: http://www.cell.com/cell/fulltext/S0092-8674(18)30154-5. This data has also been featured on Kaggle from the user Paul Mooney at this url: https://www.kaggle.com/paultimothymooney/chest-xray-pneumonia . We will download these pneumonia images from kaggle now."
   ]
  },
  {
   "cell_type": "code",
   "execution_count": 9,
   "metadata": {
    "ExecuteTime": {
     "end_time": "2020-05-07T16:24:48.424678Z",
     "start_time": "2020-05-07T16:24:48.403733Z"
    }
   },
   "outputs": [
    {
     "data": {
      "text/plain": [
       "\"\\npne_train_dir = 'chest_xray/chest_xray/train/PNEUMONIA'\\nnorm_train_dir = 'chest_xray/chest_xray/train/NORMAL'\\n\\npne_test_dir = 'chest_xray/chest_xray/test/PNEUMONIA'\\nnorm_test_dir = 'chest_xray/chest_xray/test/NORMAL'\\n\\npne_val_dir = 'chest_xray/chest_xray/val/PNEUMONIA'\\nnorm_val_dir = 'chest_xray/chest_xray/val/NORMAL'\\n\""
      ]
     },
     "execution_count": 9,
     "metadata": {},
     "output_type": "execute_result"
    }
   ],
   "source": [
    "\"\"\"\n",
    "pne_train_dir = 'chest_xray/chest_xray/train/PNEUMONIA'\n",
    "norm_train_dir = 'chest_xray/chest_xray/train/NORMAL'\n",
    "\n",
    "pne_test_dir = 'chest_xray/chest_xray/test/PNEUMONIA'\n",
    "norm_test_dir = 'chest_xray/chest_xray/test/NORMAL'\n",
    "\n",
    "pne_val_dir = 'chest_xray/chest_xray/val/PNEUMONIA'\n",
    "norm_val_dir = 'chest_xray/chest_xray/val/NORMAL'\n",
    "\"\"\""
   ]
  },
  {
   "cell_type": "code",
   "execution_count": 10,
   "metadata": {
    "ExecuteTime": {
     "end_time": "2020-05-07T16:24:48.440635Z",
     "start_time": "2020-05-07T16:24:48.428668Z"
    }
   },
   "outputs": [],
   "source": [
    "labels = ['PNEUMONIA', 'NORMAL']\n",
    "img_size = 150\n",
    "def get_training_data(data_dir):\n",
    "    data = [] \n",
    "    for label in labels: \n",
    "        path = os.path.join(data_dir, label)\n",
    "        class_num = labels.index(label)\n",
    "        for img in os.listdir(path):\n",
    "            try:\n",
    "                img_arr = cv2.imread(os.path.join(path, img), cv2.IMREAD_GRAYSCALE)\n",
    "                resized_arr = cv2.resize(img_arr, (img_size, img_size)) # Reshaping images to preferred size\n",
    "                data.append([resized_arr, class_num])\n",
    "            except Exception as e:\n",
    "                print(e)\n",
    "    return np.array(data)"
   ]
  },
  {
   "cell_type": "code",
   "execution_count": 11,
   "metadata": {
    "ExecuteTime": {
     "end_time": "2020-05-07T16:25:51.756003Z",
     "start_time": "2020-05-07T16:24:48.445621Z"
    }
   },
   "outputs": [],
   "source": [
    "train = get_training_data('pneumonia_dataset/chest_xray/train')\n",
    "test = get_training_data('pneumonia_dataset/chest_xray/test')\n",
    "val = get_training_data('pneumonia_dataset/chest_xray/val')"
   ]
  },
  {
   "cell_type": "code",
   "execution_count": 31,
   "metadata": {
    "ExecuteTime": {
     "end_time": "2020-05-07T16:31:55.425462Z",
     "start_time": "2020-05-07T16:31:55.181115Z"
    }
   },
   "outputs": [
    {
     "data": {
      "image/png": "[encoded data removed]",
      "text/plain": [
       "<Figure size 576x576 with 1 Axes>"
      ]
     },
     "metadata": {},
     "output_type": "display_data"
    }
   ],
   "source": [
    "l = []\n",
    "for i in train:\n",
    "    if(i[1] == 0):\n",
    "        l.append(\"Pneumonia\")\n",
    "    else:\n",
    "        l.append(\"Normal\")\n",
    "fig, ax = plt.subplots(figsize=(8, 8))\n",
    "sns.set_style('darkgrid')\n",
    "ax = sns.countplot(l, palette='cool')   \n",
    "ax.set_title('Distribution of Images', fontsize=14)\n",
    "ax.set_xlabel('Label', fontsize=12)\n",
    "ax.set_ylabel('Count', fontsize=12)\n",
    "plt.show()"
   ]
  },
  {
   "cell_type": "code",
   "execution_count": 13,
   "metadata": {
    "ExecuteTime": {
     "end_time": "2020-05-07T16:25:52.821947Z",
     "start_time": "2020-05-07T16:25:51.986871Z"
    }
   },
   "outputs": [
    {
     "data": {
      "text/plain": [
       "Text(0.5, 1.0, 'NORMAL')"
      ]
     },
     "execution_count": 13,
     "metadata": {},
     "output_type": "execute_result"
    },
    {
     "data": {
      "image/png": "[encoded data removed]",
      "text/plain": [
       "<Figure size 360x360 with 1 Axes>"
      ]
     },
     "metadata": {},
     "output_type": "display_data"
    },
    {
     "data": {
      "image/png": "[encoded data removed]",
      "text/plain": [
       "<Figure size 360x360 with 1 Axes>"
      ]
     },
     "metadata": {},
     "output_type": "display_data"
    }
   ],
   "source": [
    "plt.figure(figsize = (5,5))\n",
    "plt.imshow(train[0][0])\n",
    "plt.title(labels[train[0][1]])\n",
    "\n",
    "plt.figure(figsize = (5,5))\n",
    "plt.imshow(train[-1][0])\n",
    "plt.title(labels[train[-1][1]])"
   ]
  },
  {
   "cell_type": "code",
   "execution_count": 36,
   "metadata": {
    "ExecuteTime": {
     "end_time": "2020-05-07T16:35:50.853117Z",
     "start_time": "2020-05-07T16:35:49.971344Z"
    }
   },
   "outputs": [
    {
     "data": {
      "image/png": "[encoded data removed]",
      "text/plain": [
       "<Figure size 720x360 with 2 Axes>"
      ]
     },
     "metadata": {},
     "output_type": "display_data"
    }
   ],
   "source": [
    "def plotHistogram(a):\n",
    "    \"\"\"\n",
    "    Plot histogram of RGB Pixel Intensities\n",
    "    \"\"\"\n",
    "    plt.figure(figsize=(10,5))\n",
    "    plt.subplot(1,2,1)\n",
    "    plt.imshow(a)\n",
    "    plt.axis('off')\n",
    "    histo = plt.subplot(1,2,2)\n",
    "    histo.set_ylabel('Count')\n",
    "    histo.set_xlabel('Pixel Intensity')\n",
    "    n_bins = 30\n",
    "    plt.hist(a[:,0].flatten(), bins= n_bins, lw = 0, color='r', alpha=0.5);\n",
    "    plt.hist(a[:,1].flatten(), bins= n_bins, lw = 0, color='g', alpha=0.5);\n",
    "    plt.hist(a[:,2].flatten(), bins= n_bins, lw = 0, color='b', alpha=0.5);\n",
    "plotHistogram(train[0][0])"
   ]
  },
  {
   "cell_type": "code",
   "execution_count": 37,
   "metadata": {
    "ExecuteTime": {
     "end_time": "2020-05-07T16:36:37.696716Z",
     "start_time": "2020-05-07T16:36:36.966654Z"
    }
   },
   "outputs": [
    {
     "data": {
      "image/png": "[encoded data removed]",
      "text/plain": [
       "<Figure size 720x360 with 2 Axes>"
      ]
     },
     "metadata": {},
     "output_type": "display_data"
    }
   ],
   "source": [
    "plotHistogram(train[-1][0])"
   ]
  },
  {
   "cell_type": "code",
   "execution_count": 14,
   "metadata": {
    "ExecuteTime": {
     "end_time": "2020-05-07T16:25:52.838777Z",
     "start_time": "2020-05-07T16:25:52.823818Z"
    }
   },
   "outputs": [],
   "source": [
    "x_train = []\n",
    "y_train = []\n",
    "\n",
    "x_val = []\n",
    "y_val = []\n",
    "\n",
    "x_test = []\n",
    "y_test = []\n",
    "\n",
    "for feature, label in train:\n",
    "    x_train.append(feature)\n",
    "    y_train.append(label)\n",
    "\n",
    "for feature, label in test:\n",
    "    x_test.append(feature)\n",
    "    y_test.append(label)\n",
    "    \n",
    "for feature, label in val:\n",
    "    x_val.append(feature)\n",
    "    y_val.append(label)"
   ]
  },
  {
   "cell_type": "code",
   "execution_count": 15,
   "metadata": {
    "ExecuteTime": {
     "end_time": "2020-05-07T16:25:53.650943Z",
     "start_time": "2020-05-07T16:25:52.841770Z"
    }
   },
   "outputs": [],
   "source": [
    "# Normalize the data\n",
    "x_train = np.array(x_train) / 255\n",
    "x_val = np.array(x_val) / 255\n",
    "x_test = np.array(x_test) / 255"
   ]
  },
  {
   "cell_type": "code",
   "execution_count": 16,
   "metadata": {
    "ExecuteTime": {
     "end_time": "2020-05-07T16:25:53.661918Z",
     "start_time": "2020-05-07T16:25:53.653937Z"
    }
   },
   "outputs": [],
   "source": [
    "# resize data for deep learning \n",
    "x_train = x_train.reshape(-1, img_size, img_size, 1)\n",
    "y_train = np.array(y_train)\n",
    "\n",
    "x_val = x_val.reshape(-1, img_size, img_size, 1)\n",
    "y_val = np.array(y_val)\n",
    "\n",
    "x_test = x_test.reshape(-1, img_size, img_size, 1)\n",
    "y_test = np.array(y_test)"
   ]
  },
  {
   "cell_type": "code",
   "execution_count": 17,
   "metadata": {
    "ExecuteTime": {
     "end_time": "2020-05-07T16:25:54.236907Z",
     "start_time": "2020-05-07T16:25:53.663910Z"
    }
   },
   "outputs": [],
   "source": [
    "# With data augmentation to prevent overfitting and handling the imbalance in dataset\n",
    "\n",
    "datagen = ImageDataGenerator(\n",
    "        featurewise_center=False,  # set input mean to 0 over the dataset\n",
    "        samplewise_center=False,  # set each sample mean to 0\n",
    "        featurewise_std_normalization=False,  # divide inputs by std of the dataset\n",
    "        samplewise_std_normalization=False,  # divide each input by its std\n",
    "        zca_whitening=False,  # apply ZCA whitening\n",
    "        rotation_range = 30,  # randomly rotate images in the range (degrees, 0 to 180)\n",
    "        zoom_range = 0.2, # Randomly zoom image \n",
    "        width_shift_range=0.1,  # randomly shift images horizontally (fraction of total width)\n",
    "        height_shift_range=0.1,  # randomly shift images vertically (fraction of total height)\n",
    "        horizontal_flip = False,  # randomly flip images\n",
    "        vertical_flip=False)  # randomly flip images\n",
    "\n",
    "\n",
    "datagen.fit(x_train)"
   ]
  },
  {
   "cell_type": "code",
   "execution_count": 41,
   "metadata": {
    "ExecuteTime": {
     "end_time": "2020-05-07T16:38:57.582080Z",
     "start_time": "2020-05-07T16:38:57.291845Z"
    }
   },
   "outputs": [
    {
     "name": "stdout",
     "output_type": "stream",
     "text": [
      "Model: \"sequential_4\"\n",
      "_________________________________________________________________\n",
      "Layer (type)                 Output Shape              Param #   \n",
      "=================================================================\n",
      "conv2d_16 (Conv2D)           (None, 150, 150, 32)      320       \n",
      "_________________________________________________________________\n",
      "max_pooling2d_16 (MaxPooling (None, 75, 75, 32)        0         \n",
      "_________________________________________________________________\n",
      "conv2d_17 (Conv2D)           (None, 75, 75, 64)        18496     \n",
      "_________________________________________________________________\n",
      "max_pooling2d_17 (MaxPooling (None, 38, 38, 64)        0         \n",
      "_________________________________________________________________\n",
      "conv2d_18 (Conv2D)           (None, 38, 38, 64)        36928     \n",
      "_________________________________________________________________\n",
      "max_pooling2d_18 (MaxPooling (None, 19, 19, 64)        0         \n",
      "_________________________________________________________________\n",
      "conv2d_19 (Conv2D)           (None, 19, 19, 128)       73856     \n",
      "_________________________________________________________________\n",
      "max_pooling2d_19 (MaxPooling (None, 10, 10, 128)       0         \n",
      "_________________________________________________________________\n",
      "conv2d_20 (Conv2D)           (None, 10, 10, 256)       295168    \n",
      "_________________________________________________________________\n",
      "max_pooling2d_20 (MaxPooling (None, 5, 5, 256)         0         \n",
      "_________________________________________________________________\n",
      "flatten_4 (Flatten)          (None, 6400)              0         \n",
      "_________________________________________________________________\n",
      "dense_7 (Dense)              (None, 128)               819328    \n",
      "_________________________________________________________________\n",
      "dropout_4 (Dropout)          (None, 128)               0         \n",
      "_________________________________________________________________\n",
      "dense_8 (Dense)              (None, 1)                 129       \n",
      "=================================================================\n",
      "Total params: 1,244,225\n",
      "Trainable params: 1,244,225\n",
      "Non-trainable params: 0\n",
      "_________________________________________________________________\n"
     ]
    }
   ],
   "source": [
    "cust_model = Sequential()\n",
    "cust_model.add(Conv2D(32 , (3,3) , strides = 1 , padding = 'same' , activation = 'relu' , input_shape = (150,150,1)))\n",
    "cust_model.add(MaxPool2D((2,2) , strides = 2 , padding = 'same'))\n",
    "cust_model.add(Conv2D(64 , (3,3) , strides = 1 , padding = 'same' , activation = 'relu'))\n",
    "cust_model.add(MaxPool2D((2,2) , strides = 2 , padding = 'same'))\n",
    "cust_model.add(Conv2D(64 , (3,3) , strides = 1 , padding = 'same' , activation = 'relu'))\n",
    "cust_model.add(MaxPool2D((2,2) , strides = 2 , padding = 'same'))\n",
    "cust_model.add(Conv2D(128 , (3,3) , strides = 1 , padding = 'same' , activation = 'relu'))\n",
    "cust_model.add(MaxPool2D((2,2) , strides = 2 , padding = 'same'))\n",
    "cust_model.add(Conv2D(256 , (3,3) , strides = 1 , padding = 'same' , activation = 'relu'))\n",
    "cust_model.add(MaxPool2D((2,2) , strides = 2 , padding = 'same'))\n",
    "cust_model.add(Flatten())\n",
    "cust_model.add(Dense(units = 128 , activation = 'relu'))\n",
    "cust_model.add(Dropout(0.2))\n",
    "cust_model.add(Dense(units = 1 , activation = 'sigmoid'))\n",
    "cust_model.compile(optimizer = 'adam' , loss = 'binary_crossentropy' , metrics = ['accuracy'])\n",
    "cust_model.summary()"
   ]
  },
  {
   "cell_type": "code",
   "execution_count": 42,
   "metadata": {
    "ExecuteTime": {
     "end_time": "2020-05-07T16:39:02.963657Z",
     "start_time": "2020-05-07T16:39:02.626232Z"
    }
   },
   "outputs": [
    {
     "data": {
      "image/png": "[encoded data removed]",
      "text/plain": [
       "<IPython.core.display.Image object>"
      ]
     },
     "execution_count": 42,
     "metadata": {},
     "output_type": "execute_result"
    }
   ],
   "source": [
    "plot_model(cust_model, to_file='cust_model_architecture.png', show_shapes=True, show_layer_names=True)"
   ]
  },
  {
   "cell_type": "code",
   "execution_count": 20,
   "metadata": {
    "ExecuteTime": {
     "end_time": "2020-05-07T16:30:13.743580Z",
     "start_time": "2020-05-07T16:28:05.400638Z"
    }
   },
   "outputs": [
    {
     "name": "stdout",
     "output_type": "stream",
     "text": [
      "Epoch 1/10\n",
      "157/157 [==============================] - 14s 90ms/step - loss: 0.4835 - accuracy: 0.7714 - val_loss: 0.7979 - val_accuracy: 0.5905\n",
      "Epoch 2/10\n",
      "157/157 [==============================] - 13s 84ms/step - loss: 0.3293 - accuracy: 0.8463 - val_loss: 0.5797 - val_accuracy: 0.8524\n",
      "Epoch 3/10\n",
      "157/157 [==============================] - 13s 83ms/step - loss: 0.2520 - accuracy: 0.8881 - val_loss: 0.3730 - val_accuracy: 0.8333\n",
      "Epoch 4/10\n",
      "157/157 [==============================] - 12s 76ms/step - loss: 0.2202 - accuracy: 0.9052 - val_loss: 0.6907 - val_accuracy: 0.8524\n",
      "Epoch 5/10\n",
      "157/157 [==============================] - 12s 75ms/step - loss: 0.2007 - accuracy: 0.9164 - val_loss: 0.5359 - val_accuracy: 0.9000\n",
      "Epoch 6/10\n",
      "157/157 [==============================] - 12s 78ms/step - loss: 0.1750 - accuracy: 0.9303 - val_loss: 0.2126 - val_accuracy: 0.8524\n",
      "Epoch 7/10\n",
      "157/157 [==============================] - 12s 74ms/step - loss: 0.1713 - accuracy: 0.9305 - val_loss: 0.4459 - val_accuracy: 0.9048\n",
      "Epoch 8/10\n",
      "157/157 [==============================] - 14s 87ms/step - loss: 0.1627 - accuracy: 0.9367 - val_loss: 0.2703 - val_accuracy: 0.9190\n",
      "Epoch 9/10\n",
      "157/157 [==============================] - 12s 79ms/step - loss: 0.1487 - accuracy: 0.9423 - val_loss: 0.0447 - val_accuracy: 0.9048\n",
      "Epoch 10/10\n",
      "157/157 [==============================] - 12s 79ms/step - loss: 0.1395 - accuracy: 0.9480 - val_loss: 0.7847 - val_accuracy: 0.8143\n"
     ]
    }
   ],
   "source": [
    "import time\n",
    "from tensorflow.python.keras.callbacks import TensorBoard\n",
    "import datetime\n",
    "datetime = datetime.datetime.now()  # waves goodbye to datetime module!\n",
    "\n",
    "logdir = os.path.join(\"logs\", datetime.strftime(\"%Y%m%d-%H%M%S\"))\n",
    "tensorboard_callback = tf.keras.callbacks.TensorBoard(logdir, histogram_freq=1)\n",
    "\n",
    "history = cust_model.fit(datagen.flow(x_train, y_train, batch_size=32),\n",
    "                         epochs=10, validation_data=datagen.flow(x_val, y_val))"
   ]
  },
  {
   "cell_type": "code",
   "execution_count": 21,
   "metadata": {
    "ExecuteTime": {
     "end_time": "2020-05-07T16:30:17.716651Z",
     "start_time": "2020-05-07T16:30:16.719189Z"
    }
   },
   "outputs": [
    {
     "name": "stdout",
     "output_type": "stream",
     "text": [
      "624/624 [==============================] - 1s 932us/step\n",
      "Loss of the model is -  59.37702102312006 %\n",
      "624/624 [==============================] - 0s 638us/step\n",
      "Accuracy of the model is -  85.73718070983887 %\n"
     ]
    }
   ],
   "source": [
    "print(\"Loss of the model is - \" , cust_model.evaluate(x_test,y_test)[0]*100 , \"%\")\n",
    "print(\"Accuracy of the model is - \" , cust_model.evaluate(x_test,y_test)[1]*100 , \"%\")"
   ]
  },
  {
   "cell_type": "code",
   "execution_count": 22,
   "metadata": {
    "ExecuteTime": {
     "end_time": "2020-05-07T16:30:19.386486Z",
     "start_time": "2020-05-07T16:30:18.615768Z"
    }
   },
   "outputs": [
    {
     "data": {
      "image/png": "[encoded data removed]",
      "text/plain": [
       "<Figure size 1440x720 with 2 Axes>"
      ]
     },
     "metadata": {},
     "output_type": "display_data"
    }
   ],
   "source": [
    "epochs = [i for i in range(10)]\n",
    "fig , ax = plt.subplots(1,2)\n",
    "train_acc = history.history['accuracy']\n",
    "train_loss = history.history['loss']\n",
    "val_acc = history.history['val_accuracy']\n",
    "val_loss = history.history['val_loss']\n",
    "fig.set_size_inches(20,10)\n",
    "\n",
    "ax[0].plot(epochs , train_acc , 'go-' , label = 'Training Accuracy')\n",
    "ax[0].plot(epochs , val_acc , 'ro-' , label = 'Validation Accuracy')\n",
    "ax[0].set_title('Training & Validation Accuracy')\n",
    "ax[0].legend()\n",
    "ax[0].set_xlabel(\"Epochs\")\n",
    "ax[0].set_ylabel(\"Accuracy\")\n",
    "\n",
    "ax[1].plot(epochs , train_loss , 'g-o' , label = 'Training Loss')\n",
    "ax[1].plot(epochs , val_loss , 'r-o' , label = 'Validation Loss')\n",
    "ax[1].set_title('Testing Accuracy & Loss')\n",
    "ax[1].legend()\n",
    "ax[1].set_xlabel(\"Epochs\")\n",
    "ax[1].set_ylabel(\"Training & Validation Loss\")\n",
    "plt.show()"
   ]
  },
  {
   "cell_type": "code",
   "execution_count": 23,
   "metadata": {
    "ExecuteTime": {
     "end_time": "2020-05-07T16:30:20.277105Z",
     "start_time": "2020-05-07T16:30:19.761478Z"
    }
   },
   "outputs": [
    {
     "data": {
      "text/plain": [
       "array([0, 0, 0, 0, 0, 0, 0, 0, 0, 0, 0, 0, 0, 0, 0])"
      ]
     },
     "execution_count": 23,
     "metadata": {},
     "output_type": "execute_result"
    }
   ],
   "source": [
    "predictions = cust_model.predict_classes(x_test)\n",
    "predictions = predictions.reshape(1,-1)[0]\n",
    "predictions[:15]"
   ]
  },
  {
   "cell_type": "code",
   "execution_count": 24,
   "metadata": {
    "ExecuteTime": {
     "end_time": "2020-05-07T16:30:20.980538Z",
     "start_time": "2020-05-07T16:30:20.970567Z"
    }
   },
   "outputs": [
    {
     "name": "stdout",
     "output_type": "stream",
     "text": [
      "                     precision    recall  f1-score   support\n",
      "\n",
      "Pneumonia (Class 0)       0.82      0.99      0.90       390\n",
      "   Normal (Class 1)       0.99      0.63      0.77       234\n",
      "\n",
      "           accuracy                           0.86       624\n",
      "          macro avg       0.90      0.81      0.83       624\n",
      "       weighted avg       0.88      0.86      0.85       624\n",
      "\n"
     ]
    }
   ],
   "source": [
    "print(classification_report(y_test, predictions, target_names = ['Pneumonia (Class 0)','Normal (Class 1)']))"
   ]
  },
  {
   "cell_type": "code",
   "execution_count": 25,
   "metadata": {
    "ExecuteTime": {
     "end_time": "2020-05-07T16:30:22.042292Z",
     "start_time": "2020-05-07T16:30:22.033313Z"
    }
   },
   "outputs": [
    {
     "data": {
      "text/plain": [
       "array([[388,   2],\n",
       "       [ 87, 147]], dtype=int64)"
      ]
     },
     "execution_count": 25,
     "metadata": {},
     "output_type": "execute_result"
    }
   ],
   "source": [
    "cm = confusion_matrix(y_test,predictions)\n",
    "cm"
   ]
  },
  {
   "cell_type": "code",
   "execution_count": 26,
   "metadata": {
    "ExecuteTime": {
     "end_time": "2020-05-07T16:30:23.656392Z",
     "start_time": "2020-05-07T16:30:23.172171Z"
    }
   },
   "outputs": [
    {
     "data": {
      "image/png": "[encoded data removed]",
      "text/plain": [
       "<Figure size 720x720 with 1 Axes>"
      ]
     },
     "metadata": {},
     "output_type": "display_data"
    }
   ],
   "source": [
    "from mlxtend.plotting import plot_confusion_matrix\n",
    "fig, ax = plot_confusion_matrix(conf_mat=cm ,  figsize=(10, 10))\n",
    "plt.show()"
   ]
  },
  {
   "cell_type": "code",
   "execution_count": 43,
   "metadata": {
    "ExecuteTime": {
     "end_time": "2020-05-07T16:40:23.267744Z",
     "start_time": "2020-05-07T16:40:23.252823Z"
    }
   },
   "outputs": [
    {
     "data": {
      "text/html": [
       "<div>\n",
       "<style scoped>\n",
       "    .dataframe tbody tr th:only-of-type {\n",
       "        vertical-align: middle;\n",
       "    }\n",
       "\n",
       "    .dataframe tbody tr th {\n",
       "        vertical-align: top;\n",
       "    }\n",
       "\n",
       "    .dataframe thead th {\n",
       "        text-align: right;\n",
       "    }\n",
       "</style>\n",
       "<table border=\"1\" class=\"dataframe\">\n",
       "  <thead>\n",
       "    <tr style=\"text-align: right;\">\n",
       "      <th></th>\n",
       "      <th>0</th>\n",
       "      <th>1</th>\n",
       "    </tr>\n",
       "  </thead>\n",
       "  <tbody>\n",
       "    <tr>\n",
       "      <th>0</th>\n",
       "      <td>388</td>\n",
       "      <td>2</td>\n",
       "    </tr>\n",
       "    <tr>\n",
       "      <th>1</th>\n",
       "      <td>87</td>\n",
       "      <td>147</td>\n",
       "    </tr>\n",
       "  </tbody>\n",
       "</table>\n",
       "</div>"
      ],
      "text/plain": [
       "     0    1\n",
       "0  388    2\n",
       "1   87  147"
      ]
     },
     "execution_count": 43,
     "metadata": {},
     "output_type": "execute_result"
    }
   ],
   "source": [
    "cm = pd.DataFrame(cm , index = ['0','1'] , columns = ['0','1'])\n",
    "cm"
   ]
  },
  {
   "cell_type": "code",
   "execution_count": 44,
   "metadata": {
    "ExecuteTime": {
     "end_time": "2020-05-07T16:40:24.857530Z",
     "start_time": "2020-05-07T16:40:24.852539Z"
    }
   },
   "outputs": [],
   "source": [
    "correct = np.nonzero(predictions == y_test)[0]\n",
    "incorrect = np.nonzero(predictions != y_test)[0]"
   ]
  },
  {
   "cell_type": "code",
   "execution_count": 45,
   "metadata": {
    "ExecuteTime": {
     "end_time": "2020-05-07T16:40:25.994198Z",
     "start_time": "2020-05-07T16:40:25.623384Z"
    }
   },
   "outputs": [
    {
     "data": {
      "image/png": "[encoded data removed]",
      "text/plain": [
       "<Figure size 432x288 with 5 Axes>"
      ]
     },
     "metadata": {},
     "output_type": "display_data"
    }
   ],
   "source": [
    "i = 0\n",
    "for c in correct[:6]:\n",
    "    plt.subplot(3,2,i+1)\n",
    "    plt.xticks([])\n",
    "    plt.yticks([])\n",
    "    plt.imshow(x_test[c].reshape(150,150), interpolation='none')\n",
    "    plt.title(\"Predicted Class {},Actual Class {}\".format(predictions[c], y_test[c]))\n",
    "    plt.tight_layout()\n",
    "    i += 1"
   ]
  },
  {
   "cell_type": "code",
   "execution_count": 46,
   "metadata": {
    "ExecuteTime": {
     "end_time": "2020-05-07T16:40:29.596928Z",
     "start_time": "2020-05-07T16:40:29.227202Z"
    }
   },
   "outputs": [
    {
     "data": {
      "image/png": "[encoded data removed]",
      "text/plain": [
       "<Figure size 432x288 with 5 Axes>"
      ]
     },
     "metadata": {},
     "output_type": "display_data"
    }
   ],
   "source": [
    "i = 0\n",
    "for c in incorrect[:6]:\n",
    "    plt.subplot(3,2,i+1)\n",
    "    plt.xticks([])\n",
    "    plt.yticks([])\n",
    "    plt.imshow(x_test[c].reshape(150,150), interpolation='none')\n",
    "    plt.title(\"Predicted Class {},Actual Class {}\".format(predictions[c], y_test[c]))\n",
    "    plt.tight_layout()\n",
    "    i += 1"
   ]
  },
  {
   "cell_type": "code",
   "execution_count": null,
   "metadata": {
    "ExecuteTime": {
     "end_time": "2020-05-07T15:59:22.894403Z",
     "start_time": "2020-05-07T15:57:45.606Z"
    }
   },
   "outputs": [],
   "source": [
    "# cust_model.save('cust_cnn.h5')"
   ]
  },
  {
   "cell_type": "code",
   "execution_count": 47,
   "metadata": {
    "ExecuteTime": {
     "end_time": "2020-05-07T16:40:48.606527Z",
     "start_time": "2020-05-07T16:40:48.593868Z"
    }
   },
   "outputs": [
    {
     "data": {
      "text/plain": [
       "Reusing TensorBoard on port 6006 (pid 20240), started 1:47:46 ago. (Use '!kill 20240' to kill it.)"
      ]
     },
     "metadata": {},
     "output_type": "display_data"
    },
    {
     "data": {
      "text/html": [
       "\n",
       "      <iframe id=\"tensorboard-frame-f81a280cfecf0131\" width=\"100%\" height=\"800\" frameborder=\"0\">\n",
       "      </iframe>\n",
       "      <script>\n",
       "        (function() {\n",
       "          const frame = document.getElementById(\"tensorboard-frame-f81a280cfecf0131\");\n",
       "          const url = new URL(\"/\", window.location);\n",
       "          url.port = 6006;\n",
       "          frame.src = url;\n",
       "        })();\n",
       "      </script>\n",
       "  "
      ],
      "text/plain": [
       "<IPython.core.display.HTML object>"
      ]
     },
     "metadata": {},
     "output_type": "display_data"
    }
   ],
   "source": [
    "%tensorboard --logdir logs"
   ]
  },
  {
   "cell_type": "code",
   "execution_count": null,
   "metadata": {},
   "outputs": [],
   "source": []
  },
  {
   "cell_type": "code",
   "execution_count": null,
   "metadata": {},
   "outputs": [],
   "source": []
  },
  {
   "cell_type": "code",
   "execution_count": null,
   "metadata": {},
   "outputs": [],
   "source": []
  },
  {
   "cell_type": "code",
   "execution_count": null,
   "metadata": {},
   "outputs": [],
   "source": []
  },
  {
   "cell_type": "code",
   "execution_count": null,
   "metadata": {
    "ExecuteTime": {
     "end_time": "2020-05-07T13:43:33.122104Z",
     "start_time": "2020-05-07T13:43:31.523601Z"
    }
   },
   "outputs": [],
   "source": [
    "labels = ['COVID', 'NORMAL']\n",
    "img_size = 150\n",
    "\n",
    "train = get_training_data('covid19_dataset/train')\n",
    "test = get_training_data('covid19_dataset/test')\n",
    "val = get_training_data('covid19_dataset/val')"
   ]
  },
  {
   "cell_type": "code",
   "execution_count": null,
   "metadata": {
    "ExecuteTime": {
     "end_time": "2020-05-07T13:43:33.305650Z",
     "start_time": "2020-05-07T13:43:33.124099Z"
    }
   },
   "outputs": [],
   "source": [
    "l = []\n",
    "for i in train:\n",
    "    if(i[1] == 0):\n",
    "        l.append(\"Covid-19\")\n",
    "    else:\n",
    "        l.append(\"Normal\")\n",
    "sns.set_style('darkgrid')\n",
    "sns.countplot(l, palette='cool')  "
   ]
  },
  {
   "cell_type": "code",
   "execution_count": null,
   "metadata": {
    "ExecuteTime": {
     "end_time": "2020-05-07T13:43:34.098492Z",
     "start_time": "2020-05-07T13:43:33.308632Z"
    }
   },
   "outputs": [],
   "source": [
    "plt.figure(figsize = (5,5))\n",
    "plt.imshow(train[0][0])\n",
    "plt.title(labels[train[0][1]])\n",
    "\n",
    "plt.figure(figsize = (5,5))\n",
    "plt.imshow(train[-1][0])\n",
    "plt.title(labels[train[-1][1]])"
   ]
  },
  {
   "cell_type": "code",
   "execution_count": null,
   "metadata": {
    "ExecuteTime": {
     "end_time": "2020-05-07T13:43:34.231139Z",
     "start_time": "2020-05-07T13:43:34.099491Z"
    }
   },
   "outputs": [],
   "source": [
    "x_train = []\n",
    "y_train = []\n",
    "\n",
    "x_val = []\n",
    "y_val = []\n",
    "\n",
    "x_test = []\n",
    "y_test = []\n",
    "\n",
    "for feature, label in train:\n",
    "    x_train.append(feature)\n",
    "    y_train.append(label)\n",
    "\n",
    "for feature, label in test:\n",
    "    x_test.append(feature)\n",
    "    y_test.append(label)\n",
    "    \n",
    "for feature, label in val:\n",
    "    x_val.append(feature)\n",
    "    y_val.append(label)"
   ]
  },
  {
   "cell_type": "code",
   "execution_count": null,
   "metadata": {
    "ExecuteTime": {
     "end_time": "2020-05-07T13:43:34.279025Z",
     "start_time": "2020-05-07T13:43:34.233134Z"
    }
   },
   "outputs": [],
   "source": [
    "# Normalize the data\n",
    "x_train = np.array(x_train) / 255\n",
    "x_val = np.array(x_val) / 255\n",
    "x_test = np.array(x_test) / 255"
   ]
  },
  {
   "cell_type": "code",
   "execution_count": null,
   "metadata": {
    "ExecuteTime": {
     "end_time": "2020-05-07T13:43:34.290978Z",
     "start_time": "2020-05-07T13:43:34.282004Z"
    }
   },
   "outputs": [],
   "source": [
    "# resize data for deep learning \n",
    "x_train = x_train.reshape(-1, img_size, img_size, 1)\n",
    "y_train = np.array(y_train)\n",
    "\n",
    "x_val = x_val.reshape(-1, img_size, img_size, 1)\n",
    "y_val = np.array(y_val)\n",
    "\n",
    "x_test = x_test.reshape(-1, img_size, img_size, 1)\n",
    "y_test = np.array(y_test)"
   ]
  },
  {
   "cell_type": "code",
   "execution_count": null,
   "metadata": {
    "ExecuteTime": {
     "end_time": "2020-05-07T13:43:34.332867Z",
     "start_time": "2020-05-07T13:43:34.293973Z"
    }
   },
   "outputs": [],
   "source": [
    "datagen.fit(x_train)"
   ]
  },
  {
   "cell_type": "code",
   "execution_count": null,
   "metadata": {},
   "outputs": [],
   "source": []
  },
  {
   "cell_type": "code",
   "execution_count": null,
   "metadata": {},
   "outputs": [],
   "source": []
  },
  {
   "cell_type": "code",
   "execution_count": null,
   "metadata": {},
   "outputs": [],
   "source": []
  },
  {
   "cell_type": "code",
   "execution_count": null,
   "metadata": {
    "ExecuteTime": {
     "end_time": "2020-05-07T14:16:29.322333Z",
     "start_time": "2020-05-07T14:16:29.316374Z"
    }
   },
   "outputs": [],
   "source": [
    "\n",
    "y_train = to_categorical(y_train)\n",
    "y_val = to_categorical(y_val) "
   ]
  },
  {
   "cell_type": "code",
   "execution_count": null,
   "metadata": {
    "ExecuteTime": {
     "end_time": "2020-05-07T14:39:22.595720Z",
     "start_time": "2020-05-07T14:39:22.384835Z"
    },
    "scrolled": true
   },
   "outputs": [],
   "source": [
    "input_shape = (150, 150, 1)\n",
    "\n",
    "cov_model = Sequential()\n",
    "cov_model.add(cust_model)\n",
    "cov_model.add(Dense(512, activation='relu', input_dim=input_shape))\n",
    "cov_model.add(Dropout(0.3))\n",
    "cov_model.add(Dense(512, activation='relu'))\n",
    "cov_model.add(Dropout(0.3))\n",
    "cov_model.add(Dense(2, activation='sigmoid'))\n",
    "\n",
    "for layer in cov_model.layers:\n",
    "    layer.trainable = False\n",
    "    \n",
    "cov_model.compile(optimizer='adam',\n",
    "                  loss='categorical_crossentropy', metrics=['accuracy'],)\n",
    "\n",
    "reduce_lr = tf.compat.v1.keras.callbacks.ReduceLROnPlateau(monitor='val_loss', factor=0.2,\n",
    "                              patience=5, min_lr=1e-6)\n",
    "\n",
    "cov_model.summary()"
   ]
  },
  {
   "cell_type": "code",
   "execution_count": null,
   "metadata": {
    "ExecuteTime": {
     "end_time": "2020-05-07T14:39:37.052817Z",
     "start_time": "2020-05-07T14:39:23.413996Z"
    }
   },
   "outputs": [],
   "source": [
    "history = cov_model.fit(datagen.flow(x_train, y_train, batch_size=32),\n",
    "                    epochs=30, validation_data=datagen.flow(x_val, y_val), callbacks=[reduce_lr])"
   ]
  },
  {
   "cell_type": "code",
   "execution_count": null,
   "metadata": {},
   "outputs": [],
   "source": []
  },
  {
   "cell_type": "code",
   "execution_count": null,
   "metadata": {},
   "outputs": [],
   "source": []
  },
  {
   "cell_type": "code",
   "execution_count": null,
   "metadata": {
    "ExecuteTime": {
     "end_time": "2020-05-07T09:20:03.243925Z",
     "start_time": "2020-05-07T09:20:03.232712Z"
    }
   },
   "outputs": [],
   "source": [
    "def get_labeled_files(folder):\n",
    "    x = []\n",
    "    y = []\n",
    "    \n",
    "    for folderName in os.listdir(folder):\n",
    "        if not folderName.startswith('.'):\n",
    "            if folderName in ['NORMAL']:\n",
    "                label = 0\n",
    "            elif folderName in ['PNEUMONIA']:\n",
    "                label = 1\n",
    "            else:\n",
    "                label = 2\n",
    "                continue # we do not investigate other dirs\n",
    "            for image_filename in os.listdir(folder + folderName):\n",
    "                img_path = folder + folderName + '/' + image_filename\n",
    "                if img_path is not None and str.endswith(img_path, 'jpeg'):\n",
    "                    x.append(img_path)\n",
    "                    y.append(label)\n",
    "    \n",
    "    x = np.asarray(x)\n",
    "    y = np.asarray(y)\n",
    "    return x, y"
   ]
  },
  {
   "cell_type": "code",
   "execution_count": null,
   "metadata": {
    "ExecuteTime": {
     "end_time": "2020-05-07T09:22:53.227230Z",
     "start_time": "2020-05-07T09:22:53.194319Z"
    }
   },
   "outputs": [],
   "source": [
    "x, y = get_labeled_files('../input/pneumonia_dataset/chest_xray/train')\n",
    "\n",
    "list(zip(x, y))[:10]"
   ]
  },
  {
   "cell_type": "code",
   "execution_count": null,
   "metadata": {
    "ExecuteTime": {
     "end_time": "2020-05-07T09:24:57.950243Z",
     "start_time": "2020-05-07T09:24:57.943263Z"
    }
   },
   "outputs": [],
   "source": [
    "NUM_CLASSES = 2\n",
    "\n",
    "def input_parser(img_path, label):\n",
    "    # convert the label to one-hot encoding\n",
    "    one_hot = tf.one_hot(label, NUM_CLASSES)\n",
    "    # read the img from file and decode it using tf\n",
    "    img_file = tf.read_file(img_path)\n",
    "    img_decoded = tf.image.decode_jpeg(img_file, channels=3, name=\"decoded_images\")\n",
    "    return img_decoded, one_hot\n",
    "\n",
    "# This function takes image and resizes it to smaller format (150x150)\n",
    "def image_resize(images, labels):\n",
    "    # Be very careful with resizing images like this and make sure to read the doc!\n",
    "    # Otherwise, bad things can happen - https://hackernoon.com/how-tensorflows-tf-image-resize-stole-60-days-of-my-life-aba5eb093f35\n",
    "    resized_image = tf.image.resize_images(images, (150, 150), align_corners=True)\n",
    "    resized_image_asint = tf.cast(resized_image, tf.int32)\n",
    "    return resized_image_asint, labels    "
   ]
  },
  {
   "cell_type": "code",
   "execution_count": null,
   "metadata": {
    "ExecuteTime": {
     "end_time": "2020-05-07T09:24:58.698772Z",
     "start_time": "2020-05-07T09:24:58.687798Z"
    }
   },
   "outputs": [],
   "source": [
    "# Execution plan is defined here.\n",
    "# Since it uses lazy evaluation, the images will not be read after calling build_pipeline_plan()\n",
    "# We need to use iterator defined here in tf context\n",
    "def build_pipeline_plan(img_paths, labels, batch_size):\n",
    "\n",
    "    # We build a tensor of image paths and labels\n",
    "    tr_data = tf.data.Dataset.from_tensor_slices((img_paths, labels))\n",
    "    # First step of input pipeline - read images in paths as jpegs\n",
    "    tr_data_imgs = tr_data.map(input_parser)\n",
    "    # Apply resize to each image in the pipeline\n",
    "    tr_data_imgs = tr_data_imgs.map(image_resize)\n",
    "    # Gives us opportuinty to batch images into small groups\n",
    "    tr_dataset = tr_data_imgs.batch(batch_size)\n",
    "    # create TensorFlow Iterator object directly from input pipeline\n",
    "    iterator = tr_dataset.make_one_shot_iterator()\n",
    "    next_element = iterator.get_next()\n",
    "    return next_element\n",
    "\n",
    "# Function to execute defined pipeline in Tensorflow session\n",
    "def process_pipeline(next_element):\n",
    "    gpu_options = tf.GPUOptions(per_process_gpu_memory_fraction=0.333)\n",
    "    with tf.Session(config=tf.ConfigProto(gpu_options=gpu_options)) as sess:\n",
    "        # get each element of the training dataset until the end is reached\n",
    "        # in our case only one iteration since we read everything as 1 batch\n",
    "        # can be multiple iterations if we decrease BATCH_SIZE to eg. 10\n",
    "        images = []\n",
    "        labels_hot = []\n",
    "        while True:\n",
    "            try:\n",
    "                elem = sess.run(next_element)\n",
    "                images = elem[0]\n",
    "                labels_hot = elem[1]\n",
    "            except tf.errors.OutOfRangeError:\n",
    "                print(\"Finished reading the dataset\")\n",
    "                return images, labels_hot"
   ]
  },
  {
   "cell_type": "code",
   "execution_count": null,
   "metadata": {
    "ExecuteTime": {
     "end_time": "2020-05-07T09:24:59.542269Z",
     "start_time": "2020-05-07T09:24:59.535327Z"
    }
   },
   "outputs": [],
   "source": [
    "def load_dataset(path, batch_size):\n",
    "    tf.reset_default_graph()\n",
    "    files, labels = get_labeled_files(path)\n",
    "    p = tf.constant(files, name=\"train_imgs\")\n",
    "    l = tf.constant(labels, name=\"train_labels\")\n",
    "    \n",
    "    next_element = build_pipeline_plan(p, l, batch_size=batch_size)\n",
    "    imgs, labels = process_pipeline(next_element)\n",
    "    return imgs, labels"
   ]
  },
  {
   "cell_type": "code",
   "execution_count": null,
   "metadata": {
    "ExecuteTime": {
     "end_time": "2020-05-07T09:26:01.594943Z",
     "start_time": "2020-05-07T09:26:01.555727Z"
    }
   },
   "outputs": [],
   "source": [
    "x_train, y_train = load_dataset('pneumonia_dataset/chest_xray/train', 6000)\n",
    "x_test, y_test = load_dataset(\"pneumonia_dataset/chest_xray/test\", 6000)\n",
    "x_val, y_val = load_dataset(\"pneumonia_dataset/chest_xray/val\", 6000)"
   ]
  },
  {
   "cell_type": "code",
   "execution_count": null,
   "metadata": {},
   "outputs": [],
   "source": []
  },
  {
   "cell_type": "code",
   "execution_count": null,
   "metadata": {
    "ExecuteTime": {
     "end_time": "2020-05-07T09:09:55.584605Z",
     "start_time": "2020-05-07T09:09:55.020044Z"
    }
   },
   "outputs": [],
   "source": [
    "classes = [\"NORMAL\", \"PNEUMONIA\"]\n",
    "data_gen = ImageDataGenerator() #Augmentation happens here\n",
    "\n",
    "train_batches = data_gen.flow_from_directory('pneumonia_dataset/chest_xray/train', target_size = (226, 226), classes = classes, class_mode = \"categorical\")\n",
    "val_batches = data_gen.flow_from_directory('pneumonia_dataset/chest_xray/val', target_size = (226, 226), classes = classes, class_mode = \"categorical\")\n",
    "test_batches = data_gen.flow_from_directory('pneumonia_dataset/chest_xray/test', target_size = (226, 226), classes = classes, class_mode = \"categorical\")"
   ]
  },
  {
   "cell_type": "code",
   "execution_count": null,
   "metadata": {
    "ExecuteTime": {
     "end_time": "2020-05-07T09:11:19.272746Z",
     "start_time": "2020-05-07T09:11:18.956955Z"
    }
   },
   "outputs": [],
   "source": [
    "#This is a Convolutional Artificial Neural Network\n",
    "#VGG16 Model\n",
    "model = Sequential()\n",
    "model.add(ZeroPadding2D((1,1),input_shape=train_batches.image_shape))\n",
    "model.add(Conv2D(64, (3, 3), activation='relu'))\n",
    "model.add(ZeroPadding2D((1,1)))\n",
    "model.add(Conv2D(64, (3, 3), activation='relu'))\n",
    "model.add(MaxPooling2D((2,2), strides=(2,2)))\n",
    "\n",
    "model.add(ZeroPadding2D((1,1)))\n",
    "model.add(Conv2D(128, (3, 3), activation='relu'))\n",
    "model.add(ZeroPadding2D((1,1)))\n",
    "model.add(Conv2D(128, (3, 3), activation='relu'))\n",
    "model.add(MaxPooling2D((2,2), strides=(2,2)))\n",
    "\n",
    "model.add(ZeroPadding2D((1,1)))\n",
    "model.add(Conv2D(256, (3, 3), activation='relu'))\n",
    "model.add(ZeroPadding2D((1,1)))\n",
    "model.add(Conv2D(256, (3, 3), activation='relu'))\n",
    "model.add(ZeroPadding2D((1,1)))\n",
    "model.add(Conv2D(256, (3, 3), activation='relu'))\n",
    "model.add(MaxPooling2D((2,2), strides=(2,2)))\n",
    "\n",
    "model.add(ZeroPadding2D((1,1)))\n",
    "model.add(Conv2D(512, (3, 3), activation='relu'))\n",
    "model.add(ZeroPadding2D((1,1)))\n",
    "model.add(Conv2D(512, (3, 3), activation='relu'))\n",
    "model.add(ZeroPadding2D((1,1)))\n",
    "model.add(Conv2D(512, (3, 3), activation='relu'))\n",
    "model.add(MaxPooling2D((2,2), strides=(2,2)))\n",
    "\n",
    "model.add(ZeroPadding2D((1,1)))\n",
    "model.add(Conv2D(512, (3, 3), activation='relu'))\n",
    "model.add(ZeroPadding2D((1,1)))\n",
    "model.add(Conv2D(512, (3, 3), activation='relu'))\n",
    "model.add(ZeroPadding2D((1,1)))\n",
    "model.add(Conv2D(512, (3, 3), activation='relu'))\n",
    "model.add(MaxPooling2D((2,2), strides=(2,2)))\n",
    "\n",
    "model.add(Flatten())\n",
    "model.add(Dense(4096, activation='relu'))\n",
    "model.add(Dropout(0.5))\n",
    "model.add(Dense(4096, activation='relu'))\n",
    "model.add(Dropout(0.5))\n",
    "model.add(Dense(2, activation='softmax'))"
   ]
  },
  {
   "cell_type": "code",
   "execution_count": null,
   "metadata": {
    "ExecuteTime": {
     "end_time": "2020-05-07T09:11:21.011764Z",
     "start_time": "2020-05-07T09:11:20.990786Z"
    }
   },
   "outputs": [],
   "source": [
    "# Viewing the summary of the model\n",
    "model.summary()"
   ]
  },
  {
   "cell_type": "code",
   "execution_count": null,
   "metadata": {
    "ExecuteTime": {
     "end_time": "2020-05-07T09:12:12.679933Z",
     "start_time": "2020-05-07T09:11:58.528542Z"
    }
   },
   "outputs": [],
   "source": [
    "optimizer = Adam(lr = 0.001)\n",
    "early_stopping_monitor = EarlyStopping(patience = 3, monitor = \"val_acc\", mode=\"max\", verbose = 2)\n",
    "model.compile(loss=\"categorical_crossentropy\", metrics=[\"accuracy\"], optimizer=optimizer)\n",
    "history = model.fit_generator(epochs=10, callbacks=[early_stopping_monitor], shuffle=True, validation_data=val_batches, generator=train_batches, steps_per_epoch=500, validation_steps=10,verbose=2)\n",
    "prediction = model.predict_generator(generator=train_batches, verbose=2, steps=100)"
   ]
  },
  {
   "cell_type": "code",
   "execution_count": null,
   "metadata": {},
   "outputs": [],
   "source": []
  },
  {
   "cell_type": "code",
   "execution_count": null,
   "metadata": {
    "ExecuteTime": {
     "end_time": "2020-05-07T08:46:22.390211Z",
     "start_time": "2020-05-07T08:46:22.333514Z"
    }
   },
   "outputs": [],
   "source": [
    "from tensorflow.keras.preprocessing.image import ImageDataGenerator\n",
    "from tensorflow.keras.applications import VGG19\n",
    "from tensorflow.keras.models import Model\n",
    "from tensorflow.keras.layers import Input\n",
    "from tensorflow.keras.layers import Flatten\n",
    "from tensorflow.keras.layers import Dropout\n",
    "from tensorflow.keras.layers import Dense\n",
    "\n",
    "input_shape=(150, 150, 1)\n",
    "\n",
    "covModel = Sequential()\n",
    "cov_model.add(cust_model)\n",
    "cov_model.add(Dense(512, activation='relu', input_dim=input_shape))\n",
    "cov_model.add(Dropout(0.3))\n",
    "cov_model.add(Dense(512, activation='relu'))\n",
    "cov_model.add(Dropout(0.3))\n",
    "cov_model.add(Dense(1, activation='sigmoid'))\n",
    "\"\"\"\n",
    "cust_model(weights=cust_model.weights, include_top=False,\n",
    "    input_tensor=Input(shape=(150, 150, 1)),inputs=cust_model.input)\n",
    "\n",
    "outputs = covModel.output\n",
    "outputs = Flatten(name=\"flatten\")(outputs)\n",
    "outputs = Dropout(0.5)(outputs)\n",
    "outputs = Dense(2, activation=\"softmax\")(outputs)\n",
    "\n",
    "model = Model(inputs=covModel.input, outputs=outputs)\n",
    "\"\"\"\n",
    "for layer in range(4):\n",
    "    cov_model.layers.trainable = False\n",
    "\n",
    "cov_model.compile(\n",
    "        loss='categorical_crossentropy', \n",
    "        optimizer='adam', \n",
    "        metrics=['accuracy']\n",
    ")\n",
    "\n",
    "train_aug = ImageDataGenerator(\n",
    "    rotation_range=20,\n",
    "    width_shift_range=0.2,\n",
    "    height_shift_range=0.2,\n",
    "    horizontal_flip=True\n",
    ")"
   ]
  },
  {
   "cell_type": "code",
   "execution_count": null,
   "metadata": {},
   "outputs": [],
   "source": []
  },
  {
   "cell_type": "code",
   "execution_count": null,
   "metadata": {},
   "outputs": [],
   "source": []
  },
  {
   "cell_type": "code",
   "execution_count": null,
   "metadata": {},
   "outputs": [],
   "source": []
  },
  {
   "cell_type": "code",
   "execution_count": null,
   "metadata": {},
   "outputs": [],
   "source": []
  },
  {
   "cell_type": "code",
   "execution_count": null,
   "metadata": {},
   "outputs": [],
   "source": []
  },
  {
   "cell_type": "code",
   "execution_count": null,
   "metadata": {},
   "outputs": [],
   "source": [
    "data_santa_dir = 'data/santa/'\n",
    "data_not_santa_dir = 'data/not_santa/'\n",
    "new_dir = 'split/'\n"
   ]
  },
  {
   "cell_type": "code",
   "execution_count": null,
   "metadata": {
    "ExecuteTime": {
     "end_time": "2020-05-06T15:37:07.589128Z",
     "start_time": "2020-05-06T15:35:13.386Z"
    }
   },
   "outputs": [],
   "source": [
    "covid_path = 'dataset/covid_dataset.csv'\n",
    "covid_image_path = 'dataset/covid_adjusted/'\n",
    "\n",
    "normal_path = 'dataset/normal_xray_dataset.csv'\n",
    "normal_image_path = 'dataset/normal_dataset/'\n",
    "\n",
    "covid_df = pd.read_csv(covid_path, usecols=['filename', 'finding'])\n",
    "normal_df = pd.read_csv(normal_path, usecols=['filename', 'finding'])\n",
    "\n",
    "display(normal_df.head())\n",
    "\n",
    "covid_df.head()"
   ]
  },
  {
   "cell_type": "code",
   "execution_count": null,
   "metadata": {
    "ExecuteTime": {
     "end_time": "2020-05-06T15:37:07.593117Z",
     "start_time": "2020-05-06T15:35:13.390Z"
    }
   },
   "outputs": [],
   "source": [
    "covid_images = []\n",
    "covid_labels = []\n",
    "\n",
    "for index, row in covid_df.iterrows():\n",
    "    filename = row['filename']\n",
    "    label = row['finding']\n",
    "    path = covid_image_path + filename\n",
    "\n",
    "    image = cv2.imread(path)\n",
    "    image = cv2.cvtColor(image, cv2.COLOR_BGR2RGB)\n",
    "    \n",
    "    covid_images.append(image)\n",
    "    covid_labels.append(label)\n",
    "\n",
    "normal_images = []\n",
    "normal_labels = []\n",
    "\n",
    "for index, row in normal_df.iterrows():\n",
    "    filename = row['filename']\n",
    "    label = row['finding']\n",
    "    path = normal_image_path + filename\n",
    "\n",
    "    # temporary fix while we preprocess ALL the images\n",
    "    if filename == '4c268764-b5e5-4417-85a3-da52916984d8.jpg':\n",
    "        break\n",
    "\n",
    "    image = cv2.imread(path)\n",
    "    image = cv2.cvtColor(image, cv2.COLOR_BGR2RGB)\n",
    "    \n",
    "    normal_images.append(image)\n",
    "    normal_labels.append(label)\n",
    "\n",
    "# normalize to interval of [0,1]\n",
    "covid_images = np.array(covid_images) / 255\n",
    "\n",
    "# normalize to interval of [0,1]\n",
    "normal_images = np.array(normal_images) / 255"
   ]
  },
  {
   "cell_type": "code",
   "execution_count": null,
   "metadata": {
    "ExecuteTime": {
     "end_time": "2020-05-06T15:37:07.596109Z",
     "start_time": "2020-05-06T15:35:13.395Z"
    }
   },
   "outputs": [],
   "source": [
    "def plot_images(images, title):\n",
    "    nrows, ncols = 5, 8\n",
    "    figsize = [10, 6]\n",
    "\n",
    "    fig, ax = plt.subplots(nrows=nrows, ncols=ncols, figsize=figsize, facecolor=(1, 1, 1))\n",
    "\n",
    "    for i, axi in enumerate(ax.flat):\n",
    "        axi.imshow(images[i])\n",
    "        axi.set_axis_off()\n",
    "\n",
    "    plt.suptitle(title, fontsize=24)\n",
    "    plt.tight_layout(pad=0.2, rect=[0, 0, 1, 0.9])\n",
    "    plt.show()\n",
    "\n",
    "plot_images(covid_images, 'Positive COVID-19 Cases')\n",
    "plot_images(normal_images, 'Negative COVID-19 Cases')"
   ]
  },
  {
   "cell_type": "code",
   "execution_count": null,
   "metadata": {
    "ExecuteTime": {
     "end_time": "2020-05-06T15:37:07.598103Z",
     "start_time": "2020-05-06T15:35:13.399Z"
    }
   },
   "outputs": [],
   "source": [
    "from sklearn.model_selection import train_test_split\n",
    "from sklearn.preprocessing import LabelBinarizer\n",
    "from tensorflow.keras.utils import to_categorical\n",
    "\n",
    "# split into training and testing\n",
    "covid_x_train, covid_x_test, covid_y_train, covid_y_test = train_test_split(\n",
    "    covid_images, covid_labels, test_size=0.2)\n",
    "\n",
    "normal_x_train, normal_x_test, normal_y_train, normal_y_test = train_test_split(\n",
    "    normal_images, normal_labels, test_size=0.2)\n",
    "\n",
    "X_train = np.concatenate((normal_x_train, covid_x_train), axis=0)\n",
    "X_test = np.concatenate((normal_x_test, covid_x_test), axis=0)\n",
    "y_train = np.concatenate((normal_y_train, covid_y_train), axis=0)\n",
    "y_test = np.concatenate((normal_y_test, covid_y_test), axis=0)\n",
    "\n",
    "# make labels into categories - either 0 or 1\n",
    "y_train = LabelBinarizer().fit_transform(y_train)\n",
    "y_train = to_categorical(y_train)\n",
    "\n",
    "y_test = LabelBinarizer().fit_transform(y_test)\n",
    "y_test = to_categorical(y_test)"
   ]
  },
  {
   "cell_type": "code",
   "execution_count": null,
   "metadata": {
    "ExecuteTime": {
     "end_time": "2020-05-06T15:37:07.601096Z",
     "start_time": "2020-05-06T15:35:13.405Z"
    }
   },
   "outputs": [],
   "source": [
    "X_train_contrast = []\n",
    "\n",
    "for x in X_train:\n",
    "    contrast = tf.image.adjust_contrast( x, 2 )\n",
    "    X_train_contrast.append(contrast.numpy())\n",
    "\n",
    "plot_images(X_train_contrast, 'Adjusted Contrast')"
   ]
  },
  {
   "cell_type": "code",
   "execution_count": null,
   "metadata": {
    "ExecuteTime": {
     "end_time": "2020-05-06T15:37:07.603090Z",
     "start_time": "2020-05-06T15:35:13.410Z"
    }
   },
   "outputs": [],
   "source": [
    "X_train_saturation = []\n",
    "\n",
    "for x in X_train:\n",
    "    saturation = tf.image.adjust_saturation( x, 3 )\n",
    "    X_train_saturation.append(saturation.numpy())\n",
    "\n",
    "plot_images(X_train_saturation, 'Adjusted Saturation')"
   ]
  },
  {
   "cell_type": "code",
   "execution_count": null,
   "metadata": {
    "ExecuteTime": {
     "end_time": "2020-05-06T15:37:07.606082Z",
     "start_time": "2020-05-06T15:35:13.416Z"
    }
   },
   "outputs": [],
   "source": [
    "X_train_flipped = []\n",
    "\n",
    "for x in X_train:\n",
    "    flipped = tf.image.flip_left_right(x)\n",
    "    X_train_flipped.append(flipped.numpy())\n",
    "\n",
    "plot_images(X_train_flipped, 'Flipped Left Right')"
   ]
  },
  {
   "cell_type": "code",
   "execution_count": null,
   "metadata": {
    "ExecuteTime": {
     "end_time": "2020-05-06T15:37:07.608078Z",
     "start_time": "2020-05-06T15:35:13.423Z"
    }
   },
   "outputs": [],
   "source": [
    "X_train_flipped_up_down = []\n",
    "\n",
    "for x in X_train:\n",
    "    flipped = tf.image.flip_up_down(x)\n",
    "    X_train_flipped_up_down.append(flipped.numpy())\n",
    "\n",
    "plot_images(X_train_flipped_up_down, 'Flipped Up Down')"
   ]
  },
  {
   "cell_type": "code",
   "execution_count": null,
   "metadata": {
    "ExecuteTime": {
     "end_time": "2020-05-06T15:37:07.611068Z",
     "start_time": "2020-05-06T15:35:13.428Z"
    }
   },
   "outputs": [],
   "source": [
    "X_train_flipped_up_down_left_right = []\n",
    "\n",
    "for x in X_train_flipped_up_down:\n",
    "    flipped = tf.image.flip_left_right(x)\n",
    "    X_train_flipped_up_down_left_right.append(flipped.numpy())\n",
    "\n",
    "plot_images(X_train_flipped_up_down_left_right, 'Flipped Up Down Left Right')"
   ]
  },
  {
   "cell_type": "code",
   "execution_count": null,
   "metadata": {
    "ExecuteTime": {
     "end_time": "2020-05-06T15:37:07.613063Z",
     "start_time": "2020-05-06T15:35:13.434Z"
    }
   },
   "outputs": [],
   "source": [
    "# input_shape=(150, 150, 1)\n",
    "\n",
    "cov_model = Sequential()\n",
    "cov_model.add(cust_model)\n",
    "cov_model.add(Dense(512, activation='relu', input_dim=input_shape))\n",
    "cov_model.add(Dropout(0.3))\n",
    "cov_model.add(Dense(512, activation='relu'))\n",
    "cov_model.add(Dropout(0.3))\n",
    "cov_model.add(Dense(1, activation='sigmoid'))\n",
    "\n",
    "for layer in cov_model.layers:\n",
    "    layer.trainable = False\n",
    "\n",
    "cov_model.compile(\n",
    "        loss='categorical_crossentropy', \n",
    "        optimizer='adam', \n",
    "        metrics=['accuracy']\n",
    ")\n",
    "\n",
    "train_aug = ImageDataGenerator(\n",
    "    rotation_range=20,\n",
    "    width_shift_range=0.2,\n",
    "    height_shift_range=0.2,\n",
    "    horizontal_flip=True\n",
    ")\n",
    "\n",
    "history = cov_model.fit(train_aug.flow(X_train, y_train, batch_size=32),\n",
    "                    validation_data=(X_test, y_test),\n",
    "                    validation_steps=len(X_test) / 32,\n",
    "                    steps_per_epoch=len(X_train) / 32,\n",
    "                    epochs=10)"
   ]
  },
  {
   "cell_type": "code",
   "execution_count": null,
   "metadata": {
    "ExecuteTime": {
     "end_time": "2020-05-06T14:55:03.766110Z",
     "start_time": "2020-05-06T14:55:03.408069Z"
    }
   },
   "outputs": [],
   "source": [
    "\"\"\"\n",
    "from tensorflow.keras.preprocessing.image import ImageDataGenerator\n",
    "from tensorflow.keras.models import Model\n",
    "from tensorflow.keras.layers import Input\n",
    "from tensorflow.keras.layers import Flatten\n",
    "from tensorflow.keras.layers import Dropout\n",
    "from tensorflow.keras.layers import Dense\n",
    "\n",
    "cov_model = cust_model(weights=model.weights, include_top=False,\n",
    "    input_tensor=Input(shape=(224, 224, 3)))\n",
    "\n",
    "outputs = cov_model.output\n",
    "outputs = Flatten(name=\"flatten\")(outputs)\n",
    "outputs = Dropout(0.5)(outputs)\n",
    "outputs = Dense(2, activation=\"softmax\")(outputs)\n",
    "\n",
    "model = Model(inputs=cov_Model.input, outputs=outputs)\n",
    "\n",
    "for layer in cov_model.layers:\n",
    "    layer.trainable = False\n",
    "\n",
    "model.compile(\n",
    "        loss='categorical_crossentropy', \n",
    "        optimizer='adam', \n",
    "        metrics=['accuracy']\n",
    ")\n",
    "\n",
    "train_aug = ImageDataGenerator(\n",
    "    rotation_range=20,\n",
    "    width_shift_range=0.2,\n",
    "    height_shift_range=0.2,\n",
    "    horizontal_flip=True\n",
    ")\n",
    "\"\"\""
   ]
  },
  {
   "cell_type": "code",
   "execution_count": null,
   "metadata": {
    "ExecuteTime": {
     "end_time": "2020-05-06T13:58:21.466549Z",
     "start_time": "2020-05-06T13:57:42.552377Z"
    }
   },
   "outputs": [],
   "source": [
    "history = model.fit(train_aug.flow(X_train, y_train, batch_size=32),\n",
    "                    validation_data=(X_test, y_test),\n",
    "                    validation_steps=len(X_test) / 32,\n",
    "                    steps_per_epoch=len(X_train) / 32,\n",
    "                    epochs=10)"
   ]
  },
  {
   "cell_type": "code",
   "execution_count": null,
   "metadata": {
    "ExecuteTime": {
     "end_time": "2020-05-06T13:58:51.445503Z",
     "start_time": "2020-05-06T13:58:49.123238Z"
    }
   },
   "outputs": [],
   "source": [
    "y_pred = model.predict(X_test, batch_size=32)\n",
    "y_pred_covid = model.predict(covid_x_test, batch_size=32)"
   ]
  },
  {
   "cell_type": "code",
   "execution_count": null,
   "metadata": {
    "ExecuteTime": {
     "end_time": "2020-05-06T13:58:59.081591Z",
     "start_time": "2020-05-06T13:58:59.077603Z"
    }
   },
   "outputs": [],
   "source": [
    "y_test_covid = LabelBinarizer().fit_transform(covid_y_test)\n",
    "y_test_covid = to_categorical(y_test_covid)"
   ]
  },
  {
   "cell_type": "code",
   "execution_count": null,
   "metadata": {
    "ExecuteTime": {
     "end_time": "2020-05-06T13:59:11.536810Z",
     "start_time": "2020-05-06T13:59:11.525836Z"
    }
   },
   "outputs": [],
   "source": [
    "from sklearn.metrics import classification_report\n",
    "\n",
    "print(classification_report(np.argmax(y_test, axis=1), np.argmax(y_pred, axis=1)))"
   ]
  },
  {
   "cell_type": "code",
   "execution_count": null,
   "metadata": {},
   "outputs": [],
   "source": []
  },
  {
   "cell_type": "code",
   "execution_count": null,
   "metadata": {},
   "outputs": [],
   "source": []
  },
  {
   "cell_type": "code",
   "execution_count": null,
   "metadata": {
    "ExecuteTime": {
     "end_time": "2020-05-06T13:24:26.459662Z",
     "start_time": "2020-05-06T13:24:26.434704Z"
    }
   },
   "outputs": [],
   "source": [
    "#Data preprocessing and analysis\n",
    "classes = [\"NORMAL\", \"PNEUMONIA\"]\n",
    "train_data = glob(train+\"/NORMAL/*.jpeg\")\n",
    "train_data += glob(train+\"/PNEUMONIA/*.jpeg\")\n",
    "data_gen = ImageDataGenerator() #Augmentation happens here\n",
    "#But in this example we're not going to give the ImageDataGenerator method any parameters to augment our data."
   ]
  },
  {
   "cell_type": "code",
   "execution_count": null,
   "metadata": {},
   "outputs": [],
   "source": []
  },
  {
   "cell_type": "code",
   "execution_count": null,
   "metadata": {},
   "outputs": [],
   "source": []
  },
  {
   "cell_type": "code",
   "execution_count": null,
   "metadata": {},
   "outputs": [],
   "source": []
  },
  {
   "cell_type": "code",
   "execution_count": null,
   "metadata": {},
   "outputs": [],
   "source": []
  },
  {
   "cell_type": "code",
   "execution_count": null,
   "metadata": {},
   "outputs": [],
   "source": []
  },
  {
   "cell_type": "code",
   "execution_count": null,
   "metadata": {},
   "outputs": [],
   "source": []
  },
  {
   "cell_type": "code",
   "execution_count": null,
   "metadata": {},
   "outputs": [],
   "source": []
  },
  {
   "cell_type": "code",
   "execution_count": null,
   "metadata": {
    "ExecuteTime": {
     "end_time": "2020-05-06T08:45:57.297532Z",
     "start_time": "2020-05-06T08:45:57.267609Z"
    }
   },
   "outputs": [],
   "source": [
    "imgs_pne_train = [file for file in os.listdir(pne_train_dir) if file.endswith('.jpeg')]"
   ]
  },
  {
   "cell_type": "code",
   "execution_count": null,
   "metadata": {
    "ExecuteTime": {
     "end_time": "2020-05-06T08:45:57.308561Z",
     "start_time": "2020-05-06T08:45:57.300518Z"
    }
   },
   "outputs": [],
   "source": [
    "type(imgs_pne_train)"
   ]
  },
  {
   "cell_type": "code",
   "execution_count": null,
   "metadata": {
    "ExecuteTime": {
     "end_time": "2020-05-06T08:45:57.325516Z",
     "start_time": "2020-05-06T08:45:57.310530Z"
    }
   },
   "outputs": [],
   "source": [
    "imgs_pne_train[0:5]"
   ]
  },
  {
   "cell_type": "code",
   "execution_count": null,
   "metadata": {
    "ExecuteTime": {
     "end_time": "2020-05-06T08:45:57.340458Z",
     "start_time": "2020-05-06T08:45:57.327493Z"
    }
   },
   "outputs": [],
   "source": [
    "print('There are', len(imgs_pne_train), 'Pneumonia training images')"
   ]
  },
  {
   "cell_type": "code",
   "execution_count": null,
   "metadata": {
    "ExecuteTime": {
     "end_time": "2020-05-06T08:45:57.360416Z",
     "start_time": "2020-05-06T08:45:57.343443Z"
    }
   },
   "outputs": [],
   "source": [
    "imgs_norm_train = [file for file in os.listdir(norm_train_dir) if file.endswith('.jpeg')]"
   ]
  },
  {
   "cell_type": "code",
   "execution_count": null,
   "metadata": {
    "ExecuteTime": {
     "end_time": "2020-05-06T08:45:57.370372Z",
     "start_time": "2020-05-06T08:45:57.363413Z"
    }
   },
   "outputs": [],
   "source": [
    "print('There are', len(imgs_norm_train), 'Normal training images')"
   ]
  },
  {
   "cell_type": "code",
   "execution_count": null,
   "metadata": {
    "ExecuteTime": {
     "end_time": "2020-05-06T08:45:57.408270Z",
     "start_time": "2020-05-06T08:45:57.373371Z"
    }
   },
   "outputs": [],
   "source": [
    "imgs_pne_test = [file for file in os.listdir(\n",
    "    pne_test_dir) if file.endswith('.jpeg')]\n",
    "imgs_norm_test = [file for file in os.listdir(\n",
    "    norm_test_dir) if file.endswith('.jpeg')]\n",
    "\n",
    "imgs_pne_val = [file for file in os.listdir(\n",
    "    pne_val_dir) if file.endswith('.jpeg')]\n",
    "imgs_norm_val = [file for file in os.listdir(\n",
    "    norm_val_dir) if file.endswith('.jpeg')]\n",
    "\n",
    "print('There are', len(imgs_pne_train), 'Pneumonia training images')\n",
    "print('There are', len(imgs_norm_train), 'Normal training images')\n",
    "print('\\n')\n",
    "print('There are', len(imgs_pne_test), 'Pneumonia testing images')\n",
    "print('There are', len(imgs_norm_test), 'Normal testing images')\n",
    "print('\\n')\n",
    "print('There are', len(imgs_pne_val), 'Pneumonia validation images')\n",
    "print('There are', len(imgs_norm_val), 'Normal validation images')\n",
    "print('\\n')\n",
    "print('There are', len(imgs_pne_train)+len(imgs_norm_train)+len(imgs_pne_test) +\n",
    "      len(imgs_norm_test)+len(imgs_pne_val)+len(imgs_norm_val), 'images in total.')"
   ]
  },
  {
   "cell_type": "markdown",
   "metadata": {},
   "source": [
    "Let's take a look at our first image in the pneumonia training set:"
   ]
  },
  {
   "cell_type": "code",
   "execution_count": null,
   "metadata": {
    "ExecuteTime": {
     "end_time": "2020-05-06T08:46:04.172121Z",
     "start_time": "2020-05-06T08:45:57.410264Z"
    }
   },
   "outputs": [],
   "source": [
    "from tensorflow.python.client import device_lib\n",
    "print(device_lib.list_local_devices())"
   ]
  },
  {
   "cell_type": "code",
   "execution_count": null,
   "metadata": {
    "ExecuteTime": {
     "end_time": "2020-05-06T08:46:04.419494Z",
     "start_time": "2020-05-06T08:46:04.174150Z"
    }
   },
   "outputs": [],
   "source": [
    "from keras.preprocessing.image import image, array_to_img, img_to_array, load_img, ImageDataGenerator\n",
    "from keras import optimizers\n",
    "np.random.seed(123)"
   ]
  },
  {
   "cell_type": "code",
   "execution_count": null,
   "metadata": {
    "ExecuteTime": {
     "end_time": "2020-05-06T08:46:04.720656Z",
     "start_time": "2020-05-06T08:46:04.421455Z"
    }
   },
   "outputs": [],
   "source": [
    "img_path = 'chest_xray/chest_xray/train/PNEUMONIA/person1000_bacteria_2931.jpeg'\n",
    "img = image.load_img(img_path, target_size=(224, 224))\n",
    "img_tensor = image.img_to_array(img)\n",
    "img_tensor = np.expand_dims(img_tensor, axis=0)\n",
    "\n",
    "#Follow the Original Model Preprocessing\n",
    "img_tensor /= 255.\n",
    "\n",
    "#Check tensor shape\n",
    "print(img_tensor.shape)\n",
    "\n",
    "#Preview an image\n",
    "plt.imshow(img_tensor[0])\n",
    "plt.show()"
   ]
  },
  {
   "cell_type": "code",
   "execution_count": null,
   "metadata": {
    "ExecuteTime": {
     "end_time": "2020-05-06T08:46:05.289359Z",
     "start_time": "2020-05-06T08:46:04.722675Z"
    }
   },
   "outputs": [],
   "source": [
    "# get all the data in the directory test (624 images), and reshape them\n",
    "test_generator = ImageDataGenerator(rescale=1./255).flow_from_directory(\n",
    "        'chest_xray/chest_xray/test', \n",
    "        target_size=(224, 224), batch_size = 624) \n",
    "\n",
    "# get all the data in the directory validation (210 images), and reshape them\n",
    "val_generator = ImageDataGenerator(rescale=1./255).flow_from_directory(\n",
    "        'chest_xray/chest_xray/val', \n",
    "        target_size=(224, 224), batch_size = 210)\n",
    "\n",
    "# get all the data in the directory split/train (5022 images), and reshape them\n",
    "train_generator = ImageDataGenerator(rescale=1./255).flow_from_directory(\n",
    "        'chest_xray/chest_xray/train', \n",
    "        target_size=(224, 224), batch_size=5022)"
   ]
  },
  {
   "cell_type": "code",
   "execution_count": null,
   "metadata": {
    "ExecuteTime": {
     "end_time": "2020-05-06T08:48:20.113228Z",
     "start_time": "2020-05-06T08:46:05.291355Z"
    }
   },
   "outputs": [],
   "source": [
    "# create the data sets\n",
    "train_images, train_labels = next(train_generator)\n",
    "test_images, test_labels = next(test_generator)\n",
    "val_images, val_labels = next(val_generator)"
   ]
  },
  {
   "cell_type": "code",
   "execution_count": null,
   "metadata": {
    "ExecuteTime": {
     "end_time": "2020-05-06T08:48:20.124174Z",
     "start_time": "2020-05-06T08:48:20.115196Z"
    }
   },
   "outputs": [],
   "source": [
    "# plot images with labels\n",
    "def plots(ims, figsize=(12,12), rows=1, interp=False, titles=None):\n",
    "    if type(ims[0]) is np.ndarray:\n",
    "        ims = np.array(ims).astype(np.uint8)\n",
    "        if (ims.shape[-1] != 3):\n",
    "            ims = ims.transpose((0,2,3,1))\n",
    "    f = plt.figure(figsize=figsize)\n",
    "    cols = len(ims)//rows if len(ims) % 2 == 0 else len(ims)//rows + 1\n",
    "    for i in range(len(ims)):\n",
    "        sp = f.add_subplot(rows, cols, i+1)\n",
    "        sp.axis('Off')\n",
    "        if titles is not None:\n",
    "            sp.set_title(titles[i], fontsize=16)\n",
    "        plt.imshow(ims[i], interpolation=None if interp else 'none')"
   ]
  },
  {
   "cell_type": "code",
   "execution_count": null,
   "metadata": {
    "ExecuteTime": {
     "end_time": "2020-05-06T08:48:20.407421Z",
     "start_time": "2020-05-06T08:48:20.126167Z"
    },
    "scrolled": true
   },
   "outputs": [],
   "source": [
    "plt.imshow(train_images[0])"
   ]
  },
  {
   "cell_type": "code",
   "execution_count": null,
   "metadata": {
    "ExecuteTime": {
     "end_time": "2020-05-06T08:48:22.704583Z",
     "start_time": "2020-05-06T08:48:20.410413Z"
    }
   },
   "outputs": [],
   "source": [
    "def plot_images(images, title):\n",
    "    nrows, ncols = 5, 8\n",
    "    figsize = [10, 6]\n",
    "\n",
    "    fig, ax = plt.subplots(nrows=nrows, ncols=ncols, figsize=figsize, facecolor=(1, 1, 1))\n",
    "\n",
    "    for i, axi in enumerate(ax.flat):\n",
    "        axi.imshow(images[i])\n",
    "        axi.set_axis_off()\n",
    "\n",
    "    plt.suptitle(title, fontsize=24)\n",
    "    plt.tight_layout(pad=0.2, rect=[0, 0, 1, 0.9])\n",
    "    plt.show()\n",
    "\n",
    "plot_images(train_images, 'Training Sample')\n",
    "plot_images(test_images, 'Testing Sample')"
   ]
  },
  {
   "cell_type": "code",
   "execution_count": null,
   "metadata": {
    "ExecuteTime": {
     "end_time": "2020-05-06T08:48:22.714593Z",
     "start_time": "2020-05-06T08:48:22.706578Z"
    }
   },
   "outputs": [],
   "source": [
    "# Explore your dataset again\n",
    "m_train = train_images.shape[0]\n",
    "num_px = train_images.shape[1]\n",
    "m_test = test_images.shape[0]\n",
    "m_val = val_images.shape[0]\n",
    "\n",
    "print (\"Number of training samples: \" + str(m_train))\n",
    "print (\"Number of testing samples: \" + str(m_test))\n",
    "print (\"Number of validation samples: \" + str(m_val))\n",
    "print (\"train_images shape: \" + str(train_images.shape))\n",
    "print (\"train_labels shape: \" + str(train_labels.shape))\n",
    "print (\"test_images shape: \" + str(test_images.shape))\n",
    "print (\"test_labels shape: \" + str(test_labels.shape))\n",
    "print (\"val_images shape: \" + str(val_images.shape))\n",
    "print (\"val_labels shape: \" + str(val_labels.shape))"
   ]
  },
  {
   "cell_type": "code",
   "execution_count": null,
   "metadata": {
    "ExecuteTime": {
     "end_time": "2020-05-06T08:48:22.734517Z",
     "start_time": "2020-05-06T08:48:22.716580Z"
    }
   },
   "outputs": [],
   "source": [
    "train_img = train_images.reshape(train_images.shape[0], -1)\n",
    "test_img = test_images.reshape(test_images.shape[0], -1)\n",
    "val_img = val_images.reshape(val_images.shape[0], -1)\n",
    "\n",
    "print(train_img.shape)\n",
    "print(test_img.shape)\n",
    "print(val_img.shape)"
   ]
  },
  {
   "cell_type": "code",
   "execution_count": null,
   "metadata": {
    "ExecuteTime": {
     "end_time": "2020-05-06T08:48:22.749500Z",
     "start_time": "2020-05-06T08:48:22.736512Z"
    }
   },
   "outputs": [],
   "source": [
    "train_y = np.reshape(train_labels[:,0], (5022,1))\n",
    "test_y = np.reshape(test_labels[:,0], (624,1))\n",
    "val_y = np.reshape(val_labels[:,0], (210,1))"
   ]
  },
  {
   "cell_type": "code",
   "execution_count": null,
   "metadata": {
    "ExecuteTime": {
     "end_time": "2020-05-06T08:58:41.902921Z",
     "start_time": "2020-05-06T08:58:41.895942Z"
    }
   },
   "outputs": [],
   "source": [
    "import keras\n",
    "from keras.models import Sequential\n",
    "from keras.layers import Dense, Activation\n",
    "from keras.optimizers import SGD, Adam\n",
    "from keras.layers.core import Flatten, Dense, Dropout\n",
    "from keras.layers.convolutional import Convolution2D, MaxPooling2D, ZeroPadding2D, Conv2D"
   ]
  },
  {
   "cell_type": "markdown",
   "metadata": {
    "ExecuteTime": {
     "end_time": "2020-05-05T16:06:55.757619Z",
     "start_time": "2020-05-05T16:06:55.751121Z"
    }
   },
   "source": [
    "Artificial Neural Network"
   ]
  },
  {
   "cell_type": "code",
   "execution_count": null,
   "metadata": {
    "ExecuteTime": {
     "end_time": "2020-05-06T08:48:23.259111Z",
     "start_time": "2020-05-06T08:48:22.766429Z"
    }
   },
   "outputs": [],
   "source": [
    "# Build a baseline fully connected model\n",
    "from keras import models\n",
    "from keras import layers\n",
    "\n",
    "np.random.seed(123)\n",
    "model = models.Sequential()\n",
    "model.add(layers.Dense(20, activation='relu', input_shape=(150528,))) # 2 hidden layers\n",
    "model.add(layers.Dense(7, activation='relu'))\n",
    "model.add(layers.Dense(5, activation='relu'))\n",
    "model.add(layers.Dense(1, activation='sigmoid'))"
   ]
  },
  {
   "cell_type": "code",
   "execution_count": null,
   "metadata": {
    "ExecuteTime": {
     "end_time": "2020-05-06T08:48:23.268088Z",
     "start_time": "2020-05-06T08:48:23.263102Z"
    }
   },
   "outputs": [],
   "source": [
    "model.summary()"
   ]
  },
  {
   "cell_type": "code",
   "execution_count": null,
   "metadata": {
    "ExecuteTime": {
     "end_time": "2020-05-06T08:51:31.701300Z",
     "start_time": "2020-05-06T08:48:23.271080Z"
    }
   },
   "outputs": [],
   "source": [
    "model.compile(optimizer='sgd',\n",
    "              loss='binary_crossentropy',\n",
    "              metrics=['accuracy'])\n",
    "\n",
    "history = model.fit(train_img,\n",
    "                    train_y,\n",
    "                    epochs=50,\n",
    "                    batch_size=32,\n",
    "                    validation_data=(val_img, val_y))"
   ]
  },
  {
   "cell_type": "code",
   "execution_count": null,
   "metadata": {
    "ExecuteTime": {
     "end_time": "2020-05-06T08:51:34.963769Z",
     "start_time": "2020-05-06T08:51:31.703292Z"
    }
   },
   "outputs": [],
   "source": [
    "results_train = model.evaluate(train_img, train_y) "
   ]
  },
  {
   "cell_type": "code",
   "execution_count": null,
   "metadata": {
    "ExecuteTime": {
     "end_time": "2020-05-06T08:51:35.443487Z",
     "start_time": "2020-05-06T08:51:34.966759Z"
    }
   },
   "outputs": [],
   "source": [
    "results_test = model.evaluate(test_img, test_y)"
   ]
  },
  {
   "cell_type": "code",
   "execution_count": null,
   "metadata": {
    "ExecuteTime": {
     "end_time": "2020-05-06T08:51:35.448474Z",
     "start_time": "2020-05-06T08:51:35.444482Z"
    }
   },
   "outputs": [],
   "source": [
    "results_train"
   ]
  },
  {
   "cell_type": "code",
   "execution_count": null,
   "metadata": {
    "ExecuteTime": {
     "end_time": "2020-05-06T08:51:35.463432Z",
     "start_time": "2020-05-06T08:51:35.450467Z"
    }
   },
   "outputs": [],
   "source": [
    "results_test"
   ]
  },
  {
   "cell_type": "markdown",
   "metadata": {},
   "source": [
    "Baseline CNN:"
   ]
  },
  {
   "cell_type": "code",
   "execution_count": null,
   "metadata": {
    "ExecuteTime": {
     "end_time": "2020-05-06T08:51:35.604076Z",
     "start_time": "2020-05-06T08:51:35.465426Z"
    }
   },
   "outputs": [],
   "source": [
    "model = models.Sequential()\n",
    "model.add(layers.Conv2D(32, (3, 3), activation='relu',\n",
    "                        input_shape=(224, 224, 3)))\n",
    "model.add(layers.MaxPooling2D((2, 2)))\n",
    "\n",
    "model.add(layers.Conv2D(32, (4, 4), activation='relu'))\n",
    "model.add(layers.MaxPooling2D((2, 2)))\n",
    "\n",
    "model.add(layers.Conv2D(64, (3, 3), activation='relu'))\n",
    "model.add(layers.MaxPooling2D((2, 2)))\n",
    "\n",
    "model.add(layers.Flatten())\n",
    "model.add(layers.Dense(64, activation='relu'))\n",
    "model.add(layers.Dense(1, activation='sigmoid'))\n",
    "\n",
    "model.compile(loss='binary_crossentropy',\n",
    "              optimizer=\"sgd\",\n",
    "              metrics=['acc'])"
   ]
  },
  {
   "cell_type": "code",
   "execution_count": null,
   "metadata": {
    "ExecuteTime": {
     "end_time": "2020-05-06T08:51:35.613050Z",
     "start_time": "2020-05-06T08:51:35.606069Z"
    }
   },
   "outputs": [],
   "source": [
    "model.summary()"
   ]
  },
  {
   "cell_type": "code",
   "execution_count": null,
   "metadata": {
    "ExecuteTime": {
     "end_time": "2020-05-06T08:57:39.584869Z",
     "start_time": "2020-05-06T08:51:35.615048Z"
    }
   },
   "outputs": [],
   "source": [
    "history = model.fit(train_images,\n",
    "                    train_y,\n",
    "                    epochs=30,\n",
    "                    batch_size=32,\n",
    "                    validation_data=(val_images, val_y))"
   ]
  },
  {
   "cell_type": "code",
   "execution_count": null,
   "metadata": {
    "ExecuteTime": {
     "end_time": "2020-05-06T08:57:45.664396Z",
     "start_time": "2020-05-06T08:57:39.586863Z"
    }
   },
   "outputs": [],
   "source": [
    "results_train = model.evaluate(train_images, train_y)"
   ]
  },
  {
   "cell_type": "code",
   "execution_count": null,
   "metadata": {
    "ExecuteTime": {
     "end_time": "2020-05-06T08:57:46.571781Z",
     "start_time": "2020-05-06T08:57:45.665391Z"
    }
   },
   "outputs": [],
   "source": [
    "results_test = model.evaluate(test_images, test_y)"
   ]
  },
  {
   "cell_type": "code",
   "execution_count": null,
   "metadata": {
    "ExecuteTime": {
     "end_time": "2020-05-06T08:57:46.579726Z",
     "start_time": "2020-05-06T08:57:46.573743Z"
    }
   },
   "outputs": [],
   "source": [
    "results_train"
   ]
  },
  {
   "cell_type": "code",
   "execution_count": null,
   "metadata": {
    "ExecuteTime": {
     "end_time": "2020-05-06T08:57:46.600827Z",
     "start_time": "2020-05-06T08:57:46.581729Z"
    }
   },
   "outputs": [],
   "source": [
    "results_test"
   ]
  },
  {
   "cell_type": "code",
   "execution_count": null,
   "metadata": {
    "ExecuteTime": {
     "end_time": "2020-05-06T08:57:47.121905Z",
     "start_time": "2020-05-06T08:57:46.602823Z"
    }
   },
   "outputs": [],
   "source": [
    "f, (ax1, ax2) = plt.subplots(1, 2, figsize=(12, 4))\n",
    "t = f.suptitle('Basic CNN Performance', fontsize=12)\n",
    "f.subplots_adjust(top=0.85, wspace=0.3)\n",
    "\n",
    "epoch_list = list(range(1,31))\n",
    "ax1.plot(epoch_list, history.history['acc'], label='Train Accuracy')\n",
    "ax1.plot(epoch_list, history.history['val_acc'], label='Validation Accuracy')\n",
    "ax1.set_xticks(np.arange(0, 31, 5))\n",
    "ax1.set_ylabel('Accuracy Value')\n",
    "ax1.set_xlabel('Epoch')\n",
    "ax1.set_title('Accuracy')\n",
    "l1 = ax1.legend(loc=\"best\")\n",
    "\n",
    "ax2.plot(epoch_list, history.history['loss'], label='Train Loss')\n",
    "ax2.plot(epoch_list, history.history['val_loss'], label='Validation Loss')\n",
    "ax2.set_xticks(np.arange(0, 31, 5))\n",
    "ax2.set_ylabel('Loss Value')\n",
    "ax2.set_xlabel('Epoch')\n",
    "ax2.set_title('Loss')\n",
    "l2 = ax2.legend(loc=\"best\")"
   ]
  },
  {
   "cell_type": "markdown",
   "metadata": {},
   "source": [
    "CNN with Regularization"
   ]
  },
  {
   "cell_type": "code",
   "execution_count": null,
   "metadata": {
    "ExecuteTime": {
     "end_time": "2020-05-06T08:59:42.906896Z",
     "start_time": "2020-05-06T08:59:42.701260Z"
    }
   },
   "outputs": [],
   "source": [
    "input_shape = (224, 224, 3)\n",
    "\n",
    "model = Sequential()\n",
    "\n",
    "model.add(Conv2D(16, kernel_size=(3, 3), activation='relu', \n",
    "                 input_shape=input_shape))\n",
    "model.add(MaxPooling2D(pool_size=(2, 2)))\n",
    "\n",
    "model.add(Conv2D(64, kernel_size=(3, 3), activation='relu'))\n",
    "model.add(MaxPooling2D(pool_size=(2, 2)))\n",
    "\n",
    "model.add(Conv2D(128, kernel_size=(3, 3), activation='relu'))\n",
    "model.add(MaxPooling2D(pool_size=(2, 2)))\n",
    "\n",
    "model.add(Conv2D(128, kernel_size=(3, 3), activation='relu'))\n",
    "model.add(MaxPooling2D(pool_size=(2, 2)))\n",
    "\n",
    "model.add(Flatten())\n",
    "model.add(Dense(512, activation='relu'))\n",
    "model.add(Dropout(0.3))\n",
    "model.add(Dense(512, activation='relu'))\n",
    "model.add(Dropout(0.3))\n",
    "model.add(Dense(1, activation='sigmoid'))\n",
    "\n",
    "\n",
    "model.compile(loss='binary_crossentropy',\n",
    "              optimizer=optimizers.RMSprop(),\n",
    "              metrics=['accuracy'])"
   ]
  },
  {
   "cell_type": "code",
   "execution_count": null,
   "metadata": {
    "ExecuteTime": {
     "end_time": "2020-05-06T09:06:33.426188Z",
     "start_time": "2020-05-06T08:59:46.014292Z"
    }
   },
   "outputs": [],
   "source": [
    "history = model.fit(train_images,\n",
    "                    train_y,\n",
    "                    epochs=30,\n",
    "                    batch_size=32,\n",
    "                    validation_data=(val_images, val_y))"
   ]
  },
  {
   "cell_type": "code",
   "execution_count": null,
   "metadata": {
    "ExecuteTime": {
     "end_time": "2020-05-06T09:13:59.813089Z",
     "start_time": "2020-05-06T09:13:53.715566Z"
    }
   },
   "outputs": [],
   "source": [
    "results_train = model.evaluate(train_images, train_y)"
   ]
  },
  {
   "cell_type": "code",
   "execution_count": null,
   "metadata": {
    "ExecuteTime": {
     "end_time": "2020-05-06T09:14:16.270205Z",
     "start_time": "2020-05-06T09:14:15.343728Z"
    }
   },
   "outputs": [],
   "source": [
    "results_test = model.evaluate(test_images, test_y)"
   ]
  },
  {
   "cell_type": "code",
   "execution_count": null,
   "metadata": {
    "ExecuteTime": {
     "end_time": "2020-05-06T09:14:17.657896Z",
     "start_time": "2020-05-06T09:14:17.651907Z"
    }
   },
   "outputs": [],
   "source": [
    "results_train"
   ]
  },
  {
   "cell_type": "code",
   "execution_count": null,
   "metadata": {
    "ExecuteTime": {
     "end_time": "2020-05-06T09:14:18.466765Z",
     "start_time": "2020-05-06T09:14:18.460746Z"
    }
   },
   "outputs": [],
   "source": [
    "results_test"
   ]
  },
  {
   "cell_type": "code",
   "execution_count": null,
   "metadata": {
    "ExecuteTime": {
     "end_time": "2020-05-06T09:14:37.700471Z",
     "start_time": "2020-05-06T09:14:37.375629Z"
    }
   },
   "outputs": [],
   "source": [
    "f, (ax1, ax2) = plt.subplots(1, 2, figsize=(12, 4))\n",
    "t = f.suptitle('Basic_2 CNN Performance', fontsize=12)\n",
    "f.subplots_adjust(top=0.85, wspace=0.3)\n",
    "\n",
    "epoch_list = list(range(1,31))\n",
    "ax1.plot(epoch_list, history.history['accuracy'], label='Train Accuracy')\n",
    "ax1.plot(epoch_list, history.history['val_accuracy'], label='Validation Accuracy')\n",
    "ax1.set_xticks(np.arange(0, 31, 5))\n",
    "ax1.set_ylabel('Accuracy Value')\n",
    "ax1.set_xlabel('Epoch')\n",
    "ax1.set_title('Accuracy')\n",
    "l1 = ax1.legend(loc=\"best\")\n",
    "\n",
    "ax2.plot(epoch_list, history.history['loss'], label='Train Loss')\n",
    "ax2.plot(epoch_list, history.history['val_loss'], label='Validation Loss')\n",
    "ax2.set_xticks(np.arange(0, 31, 5))\n",
    "ax2.set_ylabel('Loss Value')\n",
    "ax2.set_xlabel('Epoch')\n",
    "ax2.set_title('Loss')\n",
    "l2 = ax2.legend(loc=\"best\")"
   ]
  },
  {
   "cell_type": "code",
   "execution_count": null,
   "metadata": {
    "ExecuteTime": {
     "end_time": "2020-05-06T09:15:00.421505Z",
     "start_time": "2020-05-06T09:14:59.984666Z"
    }
   },
   "outputs": [],
   "source": [
    "# model.save('basic_cnn.h5')"
   ]
  },
  {
   "cell_type": "code",
   "execution_count": null,
   "metadata": {},
   "outputs": [],
   "source": []
  },
  {
   "cell_type": "markdown",
   "metadata": {},
   "source": [
    "CNN with Augmentation"
   ]
  },
  {
   "cell_type": "code",
   "execution_count": null,
   "metadata": {
    "ExecuteTime": {
     "end_time": "2020-05-06T09:15:03.769973Z",
     "start_time": "2020-05-06T09:15:03.764527Z"
    }
   },
   "outputs": [],
   "source": [
    "train_datagen = ImageDataGenerator(rescale=1./255, zoom_range=0.3, rotation_range=50,\n",
    "                                   width_shift_range=0.2, height_shift_range=0.2, shear_range=0.2, \n",
    "                                   horizontal_flip=True, fill_mode='nearest')\n",
    "\n",
    "val_datagen = ImageDataGenerator(rescale=1./255)"
   ]
  },
  {
   "cell_type": "code",
   "execution_count": null,
   "metadata": {
    "ExecuteTime": {
     "end_time": "2020-05-06T09:27:15.644714Z",
     "start_time": "2020-05-06T09:23:19.288104Z"
    }
   },
   "outputs": [],
   "source": [
    "'''\n",
    "aug_img = 4997\n",
    "pne_generator = train_datagen.flow(train_images[aug_img:aug_img+1], train_labels[aug_img:aug_img+1],\n",
    "                                   batch_size=1)\n",
    "pne = [next(train_generator) for i in range(0,5)]\n",
    "fig, ax = plt.subplots(1,5, figsize=(16, 6))\n",
    "print('Labels:', [item[1][0] for item in pne])\n",
    "l = [ax[i].imshow(pne[i][0][0]) for i in range(0,5)]\n",
    "'''"
   ]
  },
  {
   "cell_type": "code",
   "execution_count": null,
   "metadata": {
    "ExecuteTime": {
     "end_time": "2020-05-06T10:12:51.519847Z",
     "start_time": "2020-05-06T10:12:49.466185Z"
    }
   },
   "outputs": [],
   "source": [
    "train_generator = train_datagen.flow(train_images, train_labels, batch_size=30)\n",
    "val_generator = val_datagen.flow(val_images, val_labels, batch_size=20)\n",
    "input_shape = (224, 224, 3)\n",
    "\n",
    "\n",
    "model = Sequential()\n",
    "\n",
    "model.add(Conv2D(16, kernel_size=(3, 3), activation='relu', \n",
    "                 input_shape=input_shape))\n",
    "model.add(MaxPooling2D(pool_size=(2, 2)))\n",
    "\n",
    "model.add(Conv2D(64, kernel_size=(3, 3), activation='relu'))\n",
    "model.add(MaxPooling2D(pool_size=(2, 2)))\n",
    "\n",
    "model.add(Conv2D(128, kernel_size=(3, 3), activation='relu'))\n",
    "model.add(MaxPooling2D(pool_size=(2, 2)))\n",
    "\n",
    "model.add(Conv2D(128, kernel_size=(3, 3), activation='relu'))\n",
    "model.add(MaxPooling2D(pool_size=(2, 2)))\n",
    "\n",
    "model.add(Flatten())\n",
    "model.add(Dense(512, activation='relu'))\n",
    "model.add(Dropout(0.3))\n",
    "model.add(Dense(512, activation='relu'))\n",
    "model.add(Dropout(0.3))\n",
    "model.add(Dense(1, activation='sigmoid'))\n",
    "\n",
    "model.compile(loss='binary_crossentropy',\n",
    "              optimizer=optimizers.RMSprop(lr=1e-4),\n",
    "              metrics=['accuracy'])\n",
    "              \n",
    "history = model.fit_generator(train_generator, steps_per_epoch=100, epochs=100,\n",
    "                              validation_data=val_generator, validation_steps=50, \n",
    "                              verbose=1)  "
   ]
  },
  {
   "cell_type": "code",
   "execution_count": null,
   "metadata": {},
   "outputs": [],
   "source": [
    "model.save('cnn_img_aug.h5')"
   ]
  },
  {
   "cell_type": "markdown",
   "metadata": {},
   "source": [
    "VGG16"
   ]
  },
  {
   "cell_type": "code",
   "execution_count": null,
   "metadata": {
    "ExecuteTime": {
     "end_time": "2020-05-06T09:35:19.288603Z",
     "start_time": "2020-05-06T09:35:09.718444Z"
    }
   },
   "outputs": [],
   "source": [
    "from keras.applications import vgg16\n",
    "from keras.models import Model\n",
    "import keras\n",
    "\n",
    "vgg = vgg16.VGG16(include_top=False, weights='imagenet', \n",
    "                                     input_shape=input_shape)\n",
    "\n",
    "output = vgg.layers[-1].output\n",
    "output = keras.layers.Flatten()(output)\n",
    "vgg_model = Model(vgg.input, output)\n",
    "\n",
    "vgg_model.trainable = False\n",
    "for layer in vgg_model.layers:\n",
    "    layer.trainable = False\n",
    "\n",
    "pd.set_option('max_colwidth', -1)\n",
    "layers = [(layer, layer.name, layer.trainable) for layer in vgg_model.layers]\n",
    "pd.DataFrame(layers, columns=['Layer Type', 'Layer Name', 'Layer Trainable'])   "
   ]
  },
  {
   "cell_type": "code",
   "execution_count": null,
   "metadata": {
    "ExecuteTime": {
     "end_time": "2020-05-06T09:36:17.955971Z",
     "start_time": "2020-05-06T09:36:16.979537Z"
    }
   },
   "outputs": [],
   "source": [
    "bottleneck_feature_example = vgg.predict(train_images[0:1])\n",
    "print(bottleneck_feature_example.shape)\n",
    "plt.imshow(bottleneck_feature_example[0][:,:,0])"
   ]
  },
  {
   "cell_type": "code",
   "execution_count": null,
   "metadata": {
    "ExecuteTime": {
     "end_time": "2020-05-06T09:37:41.908257Z",
     "start_time": "2020-05-06T09:37:00.684262Z"
    }
   },
   "outputs": [],
   "source": [
    "def get_bottleneck_features(model, input_imgs):\n",
    "    features = model.predict(input_imgs, verbose=0)\n",
    "    return features\n",
    "    \n",
    "train_features_vgg = get_bottleneck_features(vgg_model, train_images)\n",
    "validation_features_vgg = get_bottleneck_features(vgg_model, val_images)\n",
    "\n",
    "print('Train Bottleneck Features:', train_features_vgg.shape, \n",
    "      '\\tValidation Bottleneck Features:', validation_features_vgg.shape)"
   ]
  },
  {
   "cell_type": "code",
   "execution_count": null,
   "metadata": {
    "ExecuteTime": {
     "end_time": "2020-05-06T09:41:26.943810Z",
     "start_time": "2020-05-06T09:41:26.800703Z"
    }
   },
   "outputs": [],
   "source": [
    "from keras.layers import Conv2D, MaxPooling2D, Flatten, Dense, Dropout, InputLayer\n",
    "from keras.models import Sequential\n",
    "from keras import optimizers\n",
    "\n",
    "input_shape = vgg_model.output_shape[1]\n",
    "epochs = 30\n",
    "batch_size = 32\n",
    "\n",
    "model = Sequential()\n",
    "model.add(InputLayer(input_shape=(input_shape,)))\n",
    "model.add(Dense(512, activation='relu', input_dim=input_shape))\n",
    "model.add(Dropout(0.3))\n",
    "model.add(Dense(512, activation='relu'))\n",
    "model.add(Dropout(0.3))\n",
    "model.add(Dense(1, activation='sigmoid'))\n",
    "\n",
    "model.compile(loss='binary_crossentropy',\n",
    "              optimizer=optimizers.RMSprop(lr=1e-4),\n",
    "              metrics=['accuracy'])\n",
    "\n",
    "model.summary()"
   ]
  },
  {
   "cell_type": "code",
   "execution_count": null,
   "metadata": {
    "ExecuteTime": {
     "end_time": "2020-05-06T09:42:55.348236Z",
     "start_time": "2020-05-06T09:41:31.153228Z"
    }
   },
   "outputs": [],
   "source": [
    "history = model.fit(x=train_features_vgg, y=train_y,\n",
    "                    validation_data=(validation_features_vgg, val_y),\n",
    "                    batch_size=batch_size,\n",
    "                    epochs=epochs,\n",
    "                    verbose=1)"
   ]
  },
  {
   "cell_type": "code",
   "execution_count": null,
   "metadata": {
    "ExecuteTime": {
     "end_time": "2020-05-06T09:43:42.486412Z",
     "start_time": "2020-05-06T09:43:42.129305Z"
    }
   },
   "outputs": [],
   "source": [
    "f, (ax1, ax2) = plt.subplots(1, 2, figsize=(12, 4))\n",
    "t = f.suptitle('VGG16 Transfer CNN Performance', fontsize=12)\n",
    "f.subplots_adjust(top=0.85, wspace=0.3)\n",
    "\n",
    "epoch_list = list(range(1,31))\n",
    "ax1.plot(epoch_list, history.history['accuracy'], label='Train Accuracy')\n",
    "ax1.plot(epoch_list, history.history['val_accuracy'], label='Validation Accuracy')\n",
    "ax1.set_xticks(np.arange(0, 31, 5))\n",
    "ax1.set_ylabel('Accuracy Value')\n",
    "ax1.set_xlabel('Epoch')\n",
    "ax1.set_title('Accuracy')\n",
    "l1 = ax1.legend(loc=\"best\")\n",
    "\n",
    "ax2.plot(epoch_list, history.history['loss'], label='Train Loss')\n",
    "ax2.plot(epoch_list, history.history['val_loss'], label='Validation Loss')\n",
    "ax2.set_xticks(np.arange(0, 31, 5))\n",
    "ax2.set_ylabel('Loss Value')\n",
    "ax2.set_xlabel('Epoch')\n",
    "ax2.set_title('Loss')\n",
    "l2 = ax2.legend(loc=\"best\")"
   ]
  },
  {
   "cell_type": "code",
   "execution_count": null,
   "metadata": {
    "ExecuteTime": {
     "end_time": "2020-05-06T09:44:09.744631Z",
     "start_time": "2020-05-06T09:44:08.768477Z"
    }
   },
   "outputs": [],
   "source": [
    "results_train = model.evaluate(train_features_vgg, train_y)"
   ]
  },
  {
   "cell_type": "code",
   "execution_count": null,
   "metadata": {
    "ExecuteTime": {
     "end_time": "2020-05-06T09:44:12.953101Z",
     "start_time": "2020-05-06T09:44:12.933128Z"
    }
   },
   "outputs": [],
   "source": [
    "results_test = model.evaluate(test_images, test_y)"
   ]
  },
  {
   "cell_type": "code",
   "execution_count": null,
   "metadata": {
    "ExecuteTime": {
     "end_time": "2020-05-06T09:46:17.322271Z",
     "start_time": "2020-05-06T09:46:17.316254Z"
    }
   },
   "outputs": [],
   "source": [
    "results_train"
   ]
  },
  {
   "cell_type": "code",
   "execution_count": null,
   "metadata": {},
   "outputs": [],
   "source": [
    "results_test"
   ]
  },
  {
   "cell_type": "code",
   "execution_count": null,
   "metadata": {
    "ExecuteTime": {
     "end_time": "2020-05-06T09:47:16.192006Z",
     "start_time": "2020-05-06T09:47:15.152333Z"
    }
   },
   "outputs": [],
   "source": [
    "model.save('vgg_16_1.h5')"
   ]
  },
  {
   "cell_type": "code",
   "execution_count": null,
   "metadata": {},
   "outputs": [],
   "source": []
  },
  {
   "cell_type": "code",
   "execution_count": null,
   "metadata": {
    "ExecuteTime": {
     "end_time": "2020-05-06T09:51:56.512837Z",
     "start_time": "2020-05-06T09:51:56.507833Z"
    }
   },
   "outputs": [],
   "source": [
    "train_datagen = ImageDataGenerator(rescale=1./255, zoom_range=0.3, rotation_range=50,\n",
    "                                   width_shift_range=0.2, height_shift_range=0.2, shear_range=0.2, \n",
    "                                   horizontal_flip=True, fill_mode='nearest')\n",
    "\n",
    "val_datagen = ImageDataGenerator(rescale=1./255)\n",
    "\n",
    "train_generator = train_datagen.flow(train_images, train_y, batch_size=30)\n",
    "val_generator = val_datagen.flow(val_images, val_y, batch_size=20)"
   ]
  },
  {
   "cell_type": "code",
   "execution_count": null,
   "metadata": {
    "ExecuteTime": {
     "end_time": "2020-05-06T10:04:38.946628Z",
     "start_time": "2020-05-06T09:51:58.553884Z"
    }
   },
   "outputs": [],
   "source": [
    "model = Sequential()\n",
    "model.add(vgg_model)\n",
    "model.add(Dense(512, activation='relu', input_dim=input_shape))\n",
    "model.add(Dropout(0.3))\n",
    "model.add(Dense(512, activation='relu'))\n",
    "model.add(Dropout(0.3))\n",
    "model.add(Dense(1, activation='sigmoid'))\n",
    "\n",
    "model.compile(loss='binary_crossentropy',\n",
    "              optimizer=optimizers.RMSprop(lr=2e-5),\n",
    "              metrics=['accuracy'])\n",
    "\n",
    "model.summary()\n",
    "              \n",
    "history = model.fit_generator(train_generator, steps_per_epoch=100, epochs=100,\n",
    "                              validation_data=val_generator, validation_steps=50, \n",
    "                              verbose=1)    "
   ]
  },
  {
   "cell_type": "code",
   "execution_count": null,
   "metadata": {},
   "outputs": [],
   "source": []
  },
  {
   "cell_type": "code",
   "execution_count": null,
   "metadata": {},
   "outputs": [],
   "source": []
  },
  {
   "cell_type": "code",
   "execution_count": null,
   "metadata": {},
   "outputs": [],
   "source": []
  },
  {
   "cell_type": "markdown",
   "metadata": {},
   "source": [
    "VGG19"
   ]
  },
  {
   "cell_type": "code",
   "execution_count": null,
   "metadata": {},
   "outputs": [],
   "source": []
  },
  {
   "cell_type": "markdown",
   "metadata": {},
   "source": [
    "by the Visual Geometry Group at the University of Oxford, which specializes in building very deep convolutional networks for large-scale visual recognition.\n",
    "\n",
    "variant of VGG model which in short consists of 19 layers (16 convolution layers, 3 Fully connected layer, 5 MaxPool layers and 1 SoftMax layer). There are other variants of VGG like VGG11, VGG16 and others. VGG19 has 19.6 billion FLOPs"
   ]
  },
  {
   "cell_type": "code",
   "execution_count": null,
   "metadata": {},
   "outputs": [],
   "source": []
  },
  {
   "cell_type": "code",
   "execution_count": null,
   "metadata": {
    "ExecuteTime": {
     "end_time": "2020-05-05T16:49:37.148696Z",
     "start_time": "2020-05-05T16:49:37.139722Z"
    }
   },
   "outputs": [],
   "source": [
    "from keras.applications.vgg19 import VGG19"
   ]
  },
  {
   "cell_type": "code",
   "execution_count": null,
   "metadata": {
    "ExecuteTime": {
     "end_time": "2020-05-05T16:57:47.723211Z",
     "start_time": "2020-05-05T16:57:46.208059Z"
    }
   },
   "outputs": [],
   "source": [
    "vgg19 = VGG19(weights='imagenet', \n",
    "                 include_top=False, \n",
    "                 input_shape=(224, 224, 3))"
   ]
  },
  {
   "cell_type": "code",
   "execution_count": null,
   "metadata": {
    "ExecuteTime": {
     "end_time": "2020-05-05T16:57:50.452050Z",
     "start_time": "2020-05-05T16:57:49.031749Z"
    }
   },
   "outputs": [],
   "source": [
    "# Define Model Architecture\n",
    "model = models.Sequential()\n",
    "model.add(cnn_base)\n",
    "model.add(layers.Flatten())\n",
    "model.add(layers.Dense(64, activation='relu'))\n",
    "model.add(layers.Dense(128, activation='relu'))\n",
    "model.add(layers.Dense(256, activation='relu'))\n",
    "model.add(layers.Dense(128, activation='relu'))\n",
    "model.add(layers.Dense(2, activation='softmax'))\n",
    "\n",
    "cnn_base.trainable = False"
   ]
  },
  {
   "cell_type": "code",
   "execution_count": null,
   "metadata": {
    "ExecuteTime": {
     "end_time": "2020-05-05T16:57:50.804410Z",
     "start_time": "2020-05-05T16:57:50.787455Z"
    }
   },
   "outputs": [],
   "source": [
    "# You can check whether a layer is trainable (or alter its setting) through the layer.trainable attribute\n",
    "for layer in model.layers:\n",
    "    print(layer.name, layer.trainable)\n",
    "    \n",
    "# Similarly, we can check how many trainable weights are in the model \n",
    "print(len(model.trainable_weights))\n",
    "\n",
    "model.summary()"
   ]
  },
  {
   "cell_type": "code",
   "execution_count": null,
   "metadata": {
    "ExecuteTime": {
     "end_time": "2020-05-05T17:00:36.134181Z",
     "start_time": "2020-05-05T16:57:52.054634Z"
    }
   },
   "outputs": [],
   "source": [
    "datagen = ImageDataGenerator(rescale=1./255) \n",
    "batch_size = 10\n",
    "\n",
    "\"\"\"\n",
    "# get all the data in the directory test (624 images), and reshape them\n",
    "test_generator = ImageDataGenerator(rescale=1./255).flow_from_directory(\n",
    "        'chest_xray/chest_xray/test', \n",
    "        target_size=(224, 224), batch_size = 624) \n",
    "\n",
    "# get all the data in the directory validation (210 images), and reshape them\n",
    "val_generator = ImageDataGenerator(rescale=1./255).flow_from_directory(\n",
    "        'chest_xray/chest_xray/val', \n",
    "        target_size=(224, 224), batch_size = 210)\n",
    "\n",
    "# get all the data in the directory split/train (5022 images), and reshape them\n",
    "train_generator = ImageDataGenerator(rescale=1./255).flow_from_directory(\n",
    "        'chest_xray/chest_xray/train', \n",
    "        target_size=(224, 224), batch_size=5022)\n",
    "\"\"\"\n",
    "\n",
    "# Get all the data in the directory split/train (542 images), and reshape them\n",
    "train_datagen = ImageDataGenerator(rescale=1./255,\n",
    "                                   rotation_range=40,\n",
    "                                   width_shift_range=0.2,\n",
    "                                   height_shift_range=0.2,\n",
    "                                   shear_range=0.2,\n",
    "                                   zoom_range=0.2,\n",
    "                                   horizontal_flip=True,\n",
    "                                   fill_mode='nearest')\n",
    "\n",
    "\n",
    "test_datagen = ImageDataGenerator(rescale=1./255,\n",
    "                                  rotation_range=40,\n",
    "                                  width_shift_range=0.2,\n",
    "                                  height_shift_range=0.2,\n",
    "                                  shear_range=0.2,\n",
    "                                  zoom_range=0.2,\n",
    "                                  horizontal_flip=True,\n",
    "                                  fill_mode='nearest')\n",
    "\n",
    "\"\"\"\n",
    "\n",
    "train_generator = train_datagen.flow_from_directory(train_dir, \n",
    "                                                    target_size=(240, 240), \n",
    "                                                    batch_size= 20,\n",
    "                                                    class_mode='categorical') \n",
    "\n",
    "# Get all the data in the directory split/validation (200 images), and reshape them\n",
    "val_generator = ImageDataGenerator(rescale=1./255).flow_from_directory(validation_dir, \n",
    "                                                                       target_size=(240, 240), \n",
    "                                                                       batch_size=20,\n",
    "                                                                       class_mode='categorical')\n",
    "\n",
    "# Get all the data in the directory split/test (180 images), and reshape them\n",
    "test_generator = ImageDataGenerator(rescale=1./255).flow_from_directory(test_dir, \n",
    "                                                                        target_size=(240, 240), \n",
    "                                                                        batch_size=180,\n",
    "                                                                        class_mode='categorical',\n",
    "                                                                        shuffle=False)\n",
    "\"\"\"\n",
    "\n",
    "# Compilation\n",
    "model.compile(loss='categorical_crossentropy',\n",
    "              optimizer=optimizers.RMSprop(lr=2e-5),\n",
    "              metrics=['acc'])\n",
    "\n",
    "# Fitting the Model\n",
    "history = model.fit_generator(train_generator,\n",
    "                              steps_per_epoch=8,\n",
    "                              epochs=30,\n",
    "                              validation_data=val_generator,\n",
    "                              validation_steps=10)\n",
    "\n",
    "\n",
    "end = datetime.datetime.now()\n",
    "elapsed = end - start\n",
    "print('Training took a total of {}'.format(elapsed))"
   ]
  },
  {
   "cell_type": "code",
   "execution_count": null,
   "metadata": {
    "ExecuteTime": {
     "end_time": "2020-05-05T16:23:42.098163Z",
     "start_time": "2020-05-05T16:23:41.700525Z"
    }
   },
   "outputs": [],
   "source": [
    "model = Sequential()\n",
    "model.add(layers.Conv2D(64, (3, 3), activation='relu',\n",
    "                        input_shape=(224, 224, 3)))\n",
    "model.add(ZeroPadding2D((1,1)))\n",
    "model.add(Convolution2D(64, 3, 3, activation='relu'))\n",
    "model.add(MaxPooling2D((2,2), strides=(2,2)))\n",
    "\n",
    "model.add(ZeroPadding2D((1,1)))\n",
    "model.add(Convolution2D(128, 3, 3, activation='relu'))\n",
    "model.add(ZeroPadding2D((1,1)))\n",
    "model.add(Convolution2D(128, 3, 3, activation='relu'))\n",
    "model.add(MaxPooling2D((2,2), strides=(2,2)))\n",
    "\n",
    "model.add(ZeroPadding2D((1,1)))\n",
    "model.add(Convolution2D(256, 3, 3, activation='relu'))\n",
    "model.add(ZeroPadding2D((1,1)))\n",
    "model.add(Convolution2D(256, 3, 3, activation='relu'))\n",
    "model.add(ZeroPadding2D((1,1)))\n",
    "model.add(Convolution2D(256, 3, 3, activation='relu'))\n",
    "model.add(ZeroPadding2D((1,1)))\n",
    "model.add(Convolution2D(256, 3, 3, activation='relu'))\n",
    "model.add(MaxPooling2D((2,2), strides=(2,2)))\n",
    "\n",
    "model.add(ZeroPadding2D((1,1)))\n",
    "model.add(Convolution2D(512, 3, 3, activation='relu'))\n",
    "model.add(ZeroPadding2D((1,1)))\n",
    "model.add(Convolution2D(512, 3, 3, activation='relu'))\n",
    "model.add(ZeroPadding2D((1,1)))\n",
    "model.add(Convolution2D(512, 3, 3, activation='relu'))\n",
    "model.add(ZeroPadding2D((1,1)))\n",
    "model.add(Convolution2D(512, 3, 3, activation='relu'))\n",
    "model.add(MaxPooling2D((2,2), strides=(2,2)))\n",
    "\n",
    "model.add(ZeroPadding2D((1,1)))\n",
    "model.add(Convolution2D(512, 3, 3, activation='relu'))\n",
    "model.add(ZeroPadding2D((1,1)))\n",
    "model.add(Convolution2D(512, 3, 3, activation='relu'))\n",
    "model.add(ZeroPadding2D((1,1)))\n",
    "model.add(Convolution2D(512, 3, 3, activation='relu'))\n",
    "model.add(ZeroPadding2D((1,1)))\n",
    "model.add(Convolution2D(512, 3, 3, activation='relu'))\n",
    "model.add(MaxPooling2D((2,2), strides=(2,2)))\n",
    "\n",
    "model.add(Flatten())\n",
    "model.add(Dense(4096, activation='relu'))\n",
    "model.add(Dropout(0.5))\n",
    "model.add(Dense(4096, activation='relu'))\n",
    "model.add(Dropout(0.5))\n",
    "model.add(Dense(1, activation='sigmoid'))\n",
    "    \n",
    "model.compile(loss='binary_crossentropy',\n",
    "              optimizer=\"sgd\",\n",
    "              metrics=['acc'])"
   ]
  },
  {
   "cell_type": "code",
   "execution_count": null,
   "metadata": {
    "ExecuteTime": {
     "end_time": "2020-05-05T16:23:42.874697Z",
     "start_time": "2020-05-05T16:23:42.864725Z"
    }
   },
   "outputs": [],
   "source": [
    "model.summary()"
   ]
  },
  {
   "cell_type": "code",
   "execution_count": null,
   "metadata": {
    "ExecuteTime": {
     "end_time": "2020-05-05T16:24:04.819795Z",
     "start_time": "2020-05-05T16:23:52.059560Z"
    }
   },
   "outputs": [],
   "source": [
    "history = model.fit(train_images,\n",
    "                    train_y,\n",
    "                    epochs=30,\n",
    "                    batch_size=32,\n",
    "                    validation_data=(val_images, val_y))"
   ]
  },
  {
   "cell_type": "code",
   "execution_count": null,
   "metadata": {
    "ExecuteTime": {
     "end_time": "2020-05-05T16:22:11.967460Z",
     "start_time": "2020-05-05T16:22:09.963361Z"
    }
   },
   "outputs": [],
   "source": [
    "vgg19_model = VGG19()"
   ]
  },
  {
   "cell_type": "code",
   "execution_count": null,
   "metadata": {
    "ExecuteTime": {
     "end_time": "2020-05-05T16:22:12.864718Z",
     "start_time": "2020-05-05T16:22:12.857743Z"
    }
   },
   "outputs": [],
   "source": [
    "vgg19_model.summary()"
   ]
  },
  {
   "cell_type": "code",
   "execution_count": null,
   "metadata": {
    "ExecuteTime": {
     "end_time": "2020-05-05T16:25:49.647374Z",
     "start_time": "2020-05-05T16:25:49.641859Z"
    }
   },
   "outputs": [],
   "source": [
    "vgg19_model.layers.pop()"
   ]
  },
  {
   "cell_type": "code",
   "execution_count": null,
   "metadata": {
    "ExecuteTime": {
     "end_time": "2020-05-05T16:25:52.660394Z",
     "start_time": "2020-05-05T16:25:52.546650Z"
    }
   },
   "outputs": [],
   "source": [
    "# Transform VGG19 into a sequential model\n",
    "model = Sequential()\n",
    "for layer in vgg19_model.layers:\n",
    "    model.add(layer)"
   ]
  },
  {
   "cell_type": "markdown",
   "metadata": {},
   "source": [
    "I believe that this is an issue with how Model was rewritten to be more graph-based. In addition to the layers property models also have an outputs property, so when you pop layers off your last layer is left dangling in the model's output (which is why your model still thinks its output size is 1000).\n",
    "\n",
    "A method to pop layers off and manage all the links correctly is needed, but until then I believe this would work: (my model compiles, but I haven't tried training it yet)"
   ]
  },
  {
   "cell_type": "code",
   "execution_count": null,
   "metadata": {
    "ExecuteTime": {
     "end_time": "2020-05-05T16:25:54.097756Z",
     "start_time": "2020-05-05T16:25:54.086279Z"
    }
   },
   "outputs": [],
   "source": [
    "model.summary()"
   ]
  },
  {
   "cell_type": "code",
   "execution_count": null,
   "metadata": {
    "ExecuteTime": {
     "end_time": "2020-05-05T16:26:03.427376Z",
     "start_time": "2020-05-05T16:26:03.423403Z"
    }
   },
   "outputs": [],
   "source": [
    "for layer in model.layers:\n",
    "    layer.trainable = False"
   ]
  },
  {
   "cell_type": "code",
   "execution_count": null,
   "metadata": {
    "ExecuteTime": {
     "end_time": "2020-05-05T15:30:13.056151Z",
     "start_time": "2020-05-05T15:30:13.039896Z"
    }
   },
   "outputs": [],
   "source": [
    "model.add(Dense(1, activation='softmax'))"
   ]
  },
  {
   "cell_type": "code",
   "execution_count": null,
   "metadata": {
    "ExecuteTime": {
     "end_time": "2020-05-05T15:30:13.660386Z",
     "start_time": "2020-05-05T15:30:13.652407Z"
    }
   },
   "outputs": [],
   "source": [
    "model.summary()"
   ]
  },
  {
   "cell_type": "code",
   "execution_count": null,
   "metadata": {
    "ExecuteTime": {
     "end_time": "2020-05-05T15:34:31.223424Z",
     "start_time": "2020-05-05T15:34:31.160554Z"
    }
   },
   "outputs": [],
   "source": [
    "model.compile(optimizer='adam',loss='binary_crossentropy',metrics=['acc'])"
   ]
  },
  {
   "cell_type": "code",
   "execution_count": null,
   "metadata": {
    "ExecuteTime": {
     "end_time": "2020-05-05T15:42:47.327866Z",
     "start_time": "2020-05-05T15:42:47.258757Z"
    }
   },
   "outputs": [],
   "source": [
    "model.fit_generator(train_images,\n",
    "                    steps_per_epoch=4,\n",
    "                    validation_data=(val_images, val_y),\n",
    "                    validation_steps=4,\n",
    "                    epochs=30,\n",
    "                    verbose=2\n",
    "                    )\n",
    "\"\"\"\n",
    "history = model.fit(train_images,\n",
    "                    train_y,\n",
    "                    epochs=30,\n",
    "                    batch_size=32,\n",
    "                    validation_data=(val_images, val_y))\n",
    "\"\"\""
   ]
  },
  {
   "cell_type": "markdown",
   "metadata": {},
   "source": [
    "COVID-19"
   ]
  },
  {
   "cell_type": "code",
   "execution_count": null,
   "metadata": {
    "ExecuteTime": {
     "end_time": "2020-05-06T13:49:55.099637Z",
     "start_time": "2020-05-06T13:49:23.123002Z"
    }
   },
   "outputs": [],
   "source": [
    "# Update dataset: !git pull\n",
    "!git clone https://github.com/casperbh96/COVID-19-Detection.git dataset"
   ]
  },
  {
   "cell_type": "code",
   "execution_count": null,
   "metadata": {},
   "outputs": [],
   "source": []
  },
  {
   "cell_type": "markdown",
   "metadata": {},
   "source": [
    "## Data Description"
   ]
  },
  {
   "cell_type": "code",
   "execution_count": null,
   "metadata": {},
   "outputs": [],
   "source": []
  },
  {
   "cell_type": "code",
   "execution_count": null,
   "metadata": {},
   "outputs": [],
   "source": []
  },
  {
   "cell_type": "code",
   "execution_count": null,
   "metadata": {},
   "outputs": [],
   "source": []
  },
  {
   "cell_type": "markdown",
   "metadata": {},
   "source": [
    "# Scrub\n",
    "***"
   ]
  },
  {
   "cell_type": "code",
   "execution_count": null,
   "metadata": {},
   "outputs": [],
   "source": []
  },
  {
   "cell_type": "code",
   "execution_count": null,
   "metadata": {},
   "outputs": [],
   "source": []
  },
  {
   "cell_type": "markdown",
   "metadata": {},
   "source": [
    "# Explore\n",
    "***"
   ]
  },
  {
   "cell_type": "markdown",
   "metadata": {},
   "source": [
    "Tracking covid with Weather API: https://developer.ibm.com/tutorials/chart-covid-19-progression-with-the-weather-company-disease-tracker-api/"
   ]
  },
  {
   "cell_type": "code",
   "execution_count": null,
   "metadata": {},
   "outputs": [],
   "source": []
  },
  {
   "cell_type": "code",
   "execution_count": null,
   "metadata": {},
   "outputs": [],
   "source": []
  },
  {
   "cell_type": "markdown",
   "metadata": {},
   "source": [
    "# Model\n",
    "***"
   ]
  },
  {
   "cell_type": "markdown",
   "metadata": {},
   "source": [
    "**Pneumonia model**: https://www.kaggle.com/kosovanolexandr/keras-nn-x-ray-predict-pneumonia-86-54/data"
   ]
  },
  {
   "cell_type": "markdown",
   "metadata": {},
   "source": [
    "**Keras documentation on pre-trained NN's**: https://keras.io/applications/"
   ]
  },
  {
   "cell_type": "markdown",
   "metadata": {},
   "source": [
    "Covid Dataset (58): https://github.com/ieee8023/covid-chestxray-dataset"
   ]
  },
  {
   "cell_type": "markdown",
   "metadata": {},
   "source": [
    "**Covid model with augmentation and transfer learning**: - https://github.com/casperbh96/COVID-19-Detection/blob/master/Deep_Learning_for_COVID_19.ipynb"
   ]
  },
  {
   "cell_type": "markdown",
   "metadata": {},
   "source": [
    "**View model with google experiments**:  - https://experiments.withgoogle.com/visualizing-high-dimensional-space\n",
    "                                     - http://projector.tensorflow.org/"
   ]
  },
  {
   "cell_type": "markdown",
   "metadata": {
    "ExecuteTime": {
     "end_time": "2020-05-04T12:27:59.490672Z",
     "start_time": "2020-05-04T12:27:59.483690Z"
    }
   },
   "source": [
    "**View model through Tensorboard**: - https://www.tensorflow.org/tensorboard/graphs\n",
    "                                - https://adventuresinmachinelearning.com/introduction-to-tensorboard-and-tensorflow-visualization/\n",
    "                                - https://www.datacamp.com/community/tutorials/tensorboard-tutorial"
   ]
  },
  {
   "cell_type": "markdown",
   "metadata": {},
   "source": [
    "**Visualizing through activation layers**: Notes Module 4 Appendix"
   ]
  },
  {
   "cell_type": "markdown",
   "metadata": {},
   "source": [
    "**Visualizing with Lucid**:  - https://github.com/MoJoMoon/lucid\n",
    "                         - https://colab.research.google.com/github/tensorflow/lucid/blob/master/notebooks/tutorial.ipynb"
   ]
  },
  {
   "cell_type": "markdown",
   "metadata": {},
   "source": [
    "**Visualizing with Activation Atlas**: https://github.com/tensorflow/lucid/blob/master/notebooks/activation-atlas/class-activation-atlas.ipynb"
   ]
  },
  {
   "cell_type": "markdown",
   "metadata": {},
   "source": [
    "# iNterpret\n",
    "***"
   ]
  },
  {
   "cell_type": "code",
   "execution_count": null,
   "metadata": {},
   "outputs": [],
   "source": []
  },
  {
   "cell_type": "code",
   "execution_count": null,
   "metadata": {},
   "outputs": [],
   "source": []
  },
  {
   "cell_type": "markdown",
   "metadata": {},
   "source": [
    "# Conclusion\n",
    "***"
   ]
  },
  {
   "cell_type": "code",
   "execution_count": null,
   "metadata": {},
   "outputs": [],
   "source": []
  },
  {
   "cell_type": "code",
   "execution_count": null,
   "metadata": {},
   "outputs": [],
   "source": []
  },
  {
   "cell_type": "code",
   "execution_count": null,
   "metadata": {},
   "outputs": [],
   "source": []
  },
  {
   "cell_type": "code",
   "execution_count": null,
   "metadata": {},
   "outputs": [],
   "source": []
  },
  {
   "cell_type": "code",
   "execution_count": null,
   "metadata": {},
   "outputs": [],
   "source": []
  },
  {
   "cell_type": "code",
   "execution_count": null,
   "metadata": {},
   "outputs": [],
   "source": []
  }
 ],
 "metadata": {
  "kernelspec": {
   "display_name": "Python 3",
   "language": "python",
   "name": "python3"
  },
  "language_info": {
   "codemirror_mode": {
    "name": "ipython",
    "version": 3
   },
   "file_extension": ".py",
   "mimetype": "text/x-python",
   "name": "python",
   "nbconvert_exporter": "python",
   "pygments_lexer": "ipython3",
   "version": "3.7.4"
  },
  "toc": {
   "base_numbering": 1,
   "nav_menu": {},
   "number_sections": true,
   "sideBar": true,
   "skip_h1_title": false,
   "title_cell": "Table of Contents",
   "title_sidebar": "Contents",
   "toc_cell": false,
   "toc_position": {},
   "toc_section_display": true,
   "toc_window_display": true
  }
 },
 "nbformat": 4,
 "nbformat_minor": 2
}
